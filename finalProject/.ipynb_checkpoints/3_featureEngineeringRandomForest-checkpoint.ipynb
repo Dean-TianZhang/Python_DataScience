{
 "cells": [
  {
   "cell_type": "markdown",
   "metadata": {},
   "source": [
    "# 3 Feature Engineering & Random Forest"
   ]
  },
  {
   "cell_type": "code",
   "execution_count": 22,
   "metadata": {
    "collapsed": true
   },
   "outputs": [],
   "source": [
    "%matplotlib inline\n",
    "import numpy as np\n",
    "import pandas as pd\n",
    "import math\n",
    "import random"
   ]
  },
  {
   "cell_type": "code",
   "execution_count": 23,
   "metadata": {
    "collapsed": false
   },
   "outputs": [
    {
     "name": "stderr",
     "output_type": "stream",
     "text": [
      "/Applications/Anaconda/anaconda/lib/python3.5/site-packages/IPython/core/interactiveshell.py:2825: DtypeWarning: Columns (20,30) have mixed types. Specify dtype option on import or set low_memory=False.\n",
      "  if self.run_code(code, result):\n"
     ]
    }
   ],
   "source": [
    "rawData2015 = pd.DataFrame.from_csv('complete2015Data.csv')"
   ]
  },
  {
   "cell_type": "code",
   "execution_count": 24,
   "metadata": {
    "collapsed": false
   },
   "outputs": [
    {
     "name": "stdout",
     "output_type": "stream",
     "text": [
      "Index(['index', 'FL_DATE', 'UNIQUE_CARRIER', 'TAIL_NUM', 'FL_NUM', 'ORIGIN',\n",
      "       'DEST', 'CRS_DEP_TIME', 'DEP_TIME', 'DEP_DELAY', 'TAXI_OUT',\n",
      "       'WHEELS_OFF', 'WHEELS_ON', 'TAXI_IN', 'CRS_ARR_TIME', 'ARR_TIME',\n",
      "       'ARR_DELAY', 'CANCELLED', 'DIVERTED', 'CANCELLATION_CODE', 'AIR_TIME',\n",
      "       'DISTANCE', 'CARRIER_DELAY', 'WEATHER_DELAY', 'NAS_DELAY',\n",
      "       'SECURITY_DELAY', 'LATE_AIRCRAFT_DELAY', 'ORIGIN_CITY_NAME',\n",
      "       'DEST_CITY_NAME', 'AIRCRAFT_YEAR', 'AIRCRAFT_MFR', 'LAT', 'LONG'],\n",
      "      dtype='object')\n"
     ]
    }
   ],
   "source": [
    "print(rawData2015.columns)"
   ]
  },
  {
   "cell_type": "code",
   "execution_count": 25,
   "metadata": {
    "collapsed": false
   },
   "outputs": [
    {
     "data": {
      "text/plain": [
       "(5819079, 33)"
      ]
     },
     "execution_count": 25,
     "metadata": {},
     "output_type": "execute_result"
    }
   ],
   "source": [
    "rawData2015.shape"
   ]
  },
  {
   "cell_type": "markdown",
   "metadata": {},
   "source": [
    "## 3.1 Cleaning the raw dataset"
   ]
  },
  {
   "cell_type": "markdown",
   "metadata": {},
   "source": [
    "We will focus on flights between Boston and LA. When cleaning the data set, we have to remove the following entries:\n",
    "\n",
    "- Flights that have been cancelled or diverted.\n",
    "- Meaningfluness data columns\n",
    "- Rows with NaN value\n",
    "- Flights' destination or origin do not correspond to our need\n"
   ]
  },
  {
   "cell_type": "code",
   "execution_count": 26,
   "metadata": {
    "collapsed": true
   },
   "outputs": [],
   "source": [
    "#entries to be dropped in the analysis\n",
    "columns_dropped = ['index', 'TAIL_NUM', 'FL_NUM', 'DEP_TIME', 'DEP_DELAY', 'TAXI_OUT', 'WHEELS_OFF', \\\n",
    "                   'WHEELS_ON', 'TAXI_IN', 'ARR_TIME', 'CANCELLED', 'CANCELLATION_CODE', 'AIR_TIME', \\\n",
    "                   'CARRIER_DELAY', 'WEATHER_DELAY', 'NAS_DELAY', 'SECURITY_DELAY', 'LATE_AIRCRAFT_DELAY']"
   ]
  },
  {
   "cell_type": "code",
   "execution_count": 27,
   "metadata": {
    "collapsed": false
   },
   "outputs": [],
   "source": [
    "data15 = rawData2015.copy().drop(columns_dropped, axis =1, inplace=True)"
   ]
  },
  {
   "cell_type": "markdown",
   "metadata": {},
   "source": [
    "We focus on the flight from Boston and New York to Los Angeles. The airport code is corresponing 'BOS', 'JFK', 'EWR' and 'LAX'."
   ]
  },
  {
   "cell_type": "code",
   "execution_count": 47,
   "metadata": {
    "collapsed": false
   },
   "outputs": [
    {
     "name": "stderr",
     "output_type": "stream",
     "text": [
      "/Applications/Anaconda/anaconda/lib/python3.5/site-packages/ipykernel/__main__.py:1: UserWarning: Boolean Series key will be reindexed to match DataFrame index.\n",
      "  if __name__ == '__main__':\n"
     ]
    }
   ],
   "source": [
    "dexample = rawData2015[rawData2015.DEST == 'ORD'][(rawData2015.ORIGIN == 'JFK') | (rawData2015.ORIGIN == 'LGA') | (rawData2015.ORIGIN == 'EWR')].copy()"
   ]
  },
  {
   "cell_type": "code",
   "execution_count": 48,
   "metadata": {
    "collapsed": false
   },
   "outputs": [
    {
     "name": "stdout",
     "output_type": "stream",
     "text": [
      "16459\n"
     ]
    },
    {
     "data": {
      "text/html": [
       "<div>\n",
       "<table border=\"1\" class=\"dataframe\">\n",
       "  <thead>\n",
       "    <tr style=\"text-align: right;\">\n",
       "      <th></th>\n",
       "      <th>index</th>\n",
       "      <th>FL_DATE</th>\n",
       "      <th>UNIQUE_CARRIER</th>\n",
       "      <th>TAIL_NUM</th>\n",
       "      <th>FL_NUM</th>\n",
       "      <th>ORIGIN</th>\n",
       "      <th>DEST</th>\n",
       "      <th>CRS_DEP_TIME</th>\n",
       "      <th>DEP_TIME</th>\n",
       "      <th>DEP_DELAY</th>\n",
       "      <th>...</th>\n",
       "      <th>WEATHER_DELAY</th>\n",
       "      <th>NAS_DELAY</th>\n",
       "      <th>SECURITY_DELAY</th>\n",
       "      <th>LATE_AIRCRAFT_DELAY</th>\n",
       "      <th>ORIGIN_CITY_NAME</th>\n",
       "      <th>DEST_CITY_NAME</th>\n",
       "      <th>AIRCRAFT_YEAR</th>\n",
       "      <th>AIRCRAFT_MFR</th>\n",
       "      <th>LAT</th>\n",
       "      <th>LONG</th>\n",
       "    </tr>\n",
       "  </thead>\n",
       "  <tbody>\n",
       "    <tr>\n",
       "      <th>4413</th>\n",
       "      <td>4413</td>\n",
       "      <td>2015-01-01</td>\n",
       "      <td>AA</td>\n",
       "      <td>N3FHAA</td>\n",
       "      <td>190</td>\n",
       "      <td>JFK</td>\n",
       "      <td>ORD</td>\n",
       "      <td>800</td>\n",
       "      <td>801.0</td>\n",
       "      <td>1.0</td>\n",
       "      <td>...</td>\n",
       "      <td>NaN</td>\n",
       "      <td>NaN</td>\n",
       "      <td>NaN</td>\n",
       "      <td>NaN</td>\n",
       "      <td>New York, NY</td>\n",
       "      <td>Chicago, IL</td>\n",
       "      <td>NaN</td>\n",
       "      <td>NaN</td>\n",
       "      <td>40.633333</td>\n",
       "      <td>-73.783333</td>\n",
       "    </tr>\n",
       "    <tr>\n",
       "      <th>4414</th>\n",
       "      <td>4414</td>\n",
       "      <td>2015-01-02</td>\n",
       "      <td>AA</td>\n",
       "      <td>N3DAAA</td>\n",
       "      <td>190</td>\n",
       "      <td>JFK</td>\n",
       "      <td>ORD</td>\n",
       "      <td>800</td>\n",
       "      <td>801.0</td>\n",
       "      <td>1.0</td>\n",
       "      <td>...</td>\n",
       "      <td>NaN</td>\n",
       "      <td>NaN</td>\n",
       "      <td>NaN</td>\n",
       "      <td>NaN</td>\n",
       "      <td>New York, NY</td>\n",
       "      <td>Chicago, IL</td>\n",
       "      <td>NaN</td>\n",
       "      <td>NaN</td>\n",
       "      <td>40.633333</td>\n",
       "      <td>-73.783333</td>\n",
       "    </tr>\n",
       "    <tr>\n",
       "      <th>4415</th>\n",
       "      <td>4415</td>\n",
       "      <td>2015-01-03</td>\n",
       "      <td>AA</td>\n",
       "      <td>N3BFAA</td>\n",
       "      <td>190</td>\n",
       "      <td>JFK</td>\n",
       "      <td>ORD</td>\n",
       "      <td>800</td>\n",
       "      <td>803.0</td>\n",
       "      <td>3.0</td>\n",
       "      <td>...</td>\n",
       "      <td>NaN</td>\n",
       "      <td>NaN</td>\n",
       "      <td>NaN</td>\n",
       "      <td>NaN</td>\n",
       "      <td>New York, NY</td>\n",
       "      <td>Chicago, IL</td>\n",
       "      <td>NaN</td>\n",
       "      <td>NaN</td>\n",
       "      <td>40.633333</td>\n",
       "      <td>-73.783333</td>\n",
       "    </tr>\n",
       "  </tbody>\n",
       "</table>\n",
       "<p>3 rows × 33 columns</p>\n",
       "</div>"
      ],
      "text/plain": [
       "      index     FL_DATE UNIQUE_CARRIER TAIL_NUM  FL_NUM ORIGIN DEST  \\\n",
       "4413   4413  2015-01-01             AA   N3FHAA     190    JFK  ORD   \n",
       "4414   4414  2015-01-02             AA   N3DAAA     190    JFK  ORD   \n",
       "4415   4415  2015-01-03             AA   N3BFAA     190    JFK  ORD   \n",
       "\n",
       "      CRS_DEP_TIME  DEP_TIME  DEP_DELAY    ...      WEATHER_DELAY  NAS_DELAY  \\\n",
       "4413           800     801.0        1.0    ...                NaN        NaN   \n",
       "4414           800     801.0        1.0    ...                NaN        NaN   \n",
       "4415           800     803.0        3.0    ...                NaN        NaN   \n",
       "\n",
       "      SECURITY_DELAY  LATE_AIRCRAFT_DELAY  ORIGIN_CITY_NAME  DEST_CITY_NAME  \\\n",
       "4413             NaN                  NaN      New York, NY     Chicago, IL   \n",
       "4414             NaN                  NaN      New York, NY     Chicago, IL   \n",
       "4415             NaN                  NaN      New York, NY     Chicago, IL   \n",
       "\n",
       "      AIRCRAFT_YEAR  AIRCRAFT_MFR        LAT       LONG  \n",
       "4413            NaN           NaN  40.633333 -73.783333  \n",
       "4414            NaN           NaN  40.633333 -73.783333  \n",
       "4415            NaN           NaN  40.633333 -73.783333  \n",
       "\n",
       "[3 rows x 33 columns]"
      ]
     },
     "execution_count": 48,
     "metadata": {},
     "output_type": "execute_result"
    }
   ],
   "source": [
    "print (len(dexample))                                         \n",
    "dexample.head(3)"
   ]
  },
  {
   "cell_type": "code",
   "execution_count": 60,
   "metadata": {
    "collapsed": false
   },
   "outputs": [],
   "source": [
    "dexample1 = dexample.copy().drop(columns_dropped, axis =1)"
   ]
  },
  {
   "cell_type": "code",
   "execution_count": 61,
   "metadata": {
    "collapsed": false
   },
   "outputs": [
    {
     "data": {
      "text/html": [
       "<div>\n",
       "<table border=\"1\" class=\"dataframe\">\n",
       "  <thead>\n",
       "    <tr style=\"text-align: right;\">\n",
       "      <th></th>\n",
       "      <th>FL_DATE</th>\n",
       "      <th>UNIQUE_CARRIER</th>\n",
       "      <th>ORIGIN</th>\n",
       "      <th>DEST</th>\n",
       "      <th>CRS_DEP_TIME</th>\n",
       "      <th>CRS_ARR_TIME</th>\n",
       "      <th>ARR_DELAY</th>\n",
       "      <th>DIVERTED</th>\n",
       "      <th>DISTANCE</th>\n",
       "      <th>ORIGIN_CITY_NAME</th>\n",
       "      <th>DEST_CITY_NAME</th>\n",
       "      <th>AIRCRAFT_YEAR</th>\n",
       "      <th>AIRCRAFT_MFR</th>\n",
       "      <th>LAT</th>\n",
       "      <th>LONG</th>\n",
       "    </tr>\n",
       "  </thead>\n",
       "  <tbody>\n",
       "    <tr>\n",
       "      <th>4413</th>\n",
       "      <td>2015-01-01</td>\n",
       "      <td>AA</td>\n",
       "      <td>JFK</td>\n",
       "      <td>ORD</td>\n",
       "      <td>800</td>\n",
       "      <td>955</td>\n",
       "      <td>2.0</td>\n",
       "      <td>0.0</td>\n",
       "      <td>740.0</td>\n",
       "      <td>New York, NY</td>\n",
       "      <td>Chicago, IL</td>\n",
       "      <td>NaN</td>\n",
       "      <td>NaN</td>\n",
       "      <td>40.633333</td>\n",
       "      <td>-73.783333</td>\n",
       "    </tr>\n",
       "    <tr>\n",
       "      <th>4414</th>\n",
       "      <td>2015-01-02</td>\n",
       "      <td>AA</td>\n",
       "      <td>JFK</td>\n",
       "      <td>ORD</td>\n",
       "      <td>800</td>\n",
       "      <td>955</td>\n",
       "      <td>10.0</td>\n",
       "      <td>0.0</td>\n",
       "      <td>740.0</td>\n",
       "      <td>New York, NY</td>\n",
       "      <td>Chicago, IL</td>\n",
       "      <td>NaN</td>\n",
       "      <td>NaN</td>\n",
       "      <td>40.633333</td>\n",
       "      <td>-73.783333</td>\n",
       "    </tr>\n",
       "    <tr>\n",
       "      <th>4415</th>\n",
       "      <td>2015-01-03</td>\n",
       "      <td>AA</td>\n",
       "      <td>JFK</td>\n",
       "      <td>ORD</td>\n",
       "      <td>800</td>\n",
       "      <td>955</td>\n",
       "      <td>9.0</td>\n",
       "      <td>0.0</td>\n",
       "      <td>740.0</td>\n",
       "      <td>New York, NY</td>\n",
       "      <td>Chicago, IL</td>\n",
       "      <td>NaN</td>\n",
       "      <td>NaN</td>\n",
       "      <td>40.633333</td>\n",
       "      <td>-73.783333</td>\n",
       "    </tr>\n",
       "    <tr>\n",
       "      <th>4416</th>\n",
       "      <td>2015-01-04</td>\n",
       "      <td>AA</td>\n",
       "      <td>JFK</td>\n",
       "      <td>ORD</td>\n",
       "      <td>800</td>\n",
       "      <td>955</td>\n",
       "      <td>33.0</td>\n",
       "      <td>0.0</td>\n",
       "      <td>740.0</td>\n",
       "      <td>New York, NY</td>\n",
       "      <td>Chicago, IL</td>\n",
       "      <td>NaN</td>\n",
       "      <td>NaN</td>\n",
       "      <td>40.633333</td>\n",
       "      <td>-73.783333</td>\n",
       "    </tr>\n",
       "    <tr>\n",
       "      <th>4417</th>\n",
       "      <td>2015-01-05</td>\n",
       "      <td>AA</td>\n",
       "      <td>JFK</td>\n",
       "      <td>ORD</td>\n",
       "      <td>800</td>\n",
       "      <td>955</td>\n",
       "      <td>41.0</td>\n",
       "      <td>0.0</td>\n",
       "      <td>740.0</td>\n",
       "      <td>New York, NY</td>\n",
       "      <td>Chicago, IL</td>\n",
       "      <td>NaN</td>\n",
       "      <td>NaN</td>\n",
       "      <td>40.633333</td>\n",
       "      <td>-73.783333</td>\n",
       "    </tr>\n",
       "    <tr>\n",
       "      <th>4418</th>\n",
       "      <td>2015-01-06</td>\n",
       "      <td>AA</td>\n",
       "      <td>JFK</td>\n",
       "      <td>ORD</td>\n",
       "      <td>759</td>\n",
       "      <td>952</td>\n",
       "      <td>-7.0</td>\n",
       "      <td>0.0</td>\n",
       "      <td>740.0</td>\n",
       "      <td>New York, NY</td>\n",
       "      <td>Chicago, IL</td>\n",
       "      <td>NaN</td>\n",
       "      <td>NaN</td>\n",
       "      <td>40.633333</td>\n",
       "      <td>-73.783333</td>\n",
       "    </tr>\n",
       "    <tr>\n",
       "      <th>4419</th>\n",
       "      <td>2015-01-07</td>\n",
       "      <td>AA</td>\n",
       "      <td>JFK</td>\n",
       "      <td>ORD</td>\n",
       "      <td>759</td>\n",
       "      <td>952</td>\n",
       "      <td>-21.0</td>\n",
       "      <td>0.0</td>\n",
       "      <td>740.0</td>\n",
       "      <td>New York, NY</td>\n",
       "      <td>Chicago, IL</td>\n",
       "      <td>NaN</td>\n",
       "      <td>NaN</td>\n",
       "      <td>40.633333</td>\n",
       "      <td>-73.783333</td>\n",
       "    </tr>\n",
       "    <tr>\n",
       "      <th>4420</th>\n",
       "      <td>2015-01-08</td>\n",
       "      <td>AA</td>\n",
       "      <td>JFK</td>\n",
       "      <td>ORD</td>\n",
       "      <td>759</td>\n",
       "      <td>952</td>\n",
       "      <td>13.0</td>\n",
       "      <td>0.0</td>\n",
       "      <td>740.0</td>\n",
       "      <td>New York, NY</td>\n",
       "      <td>Chicago, IL</td>\n",
       "      <td>NaN</td>\n",
       "      <td>NaN</td>\n",
       "      <td>40.633333</td>\n",
       "      <td>-73.783333</td>\n",
       "    </tr>\n",
       "    <tr>\n",
       "      <th>4421</th>\n",
       "      <td>2015-01-09</td>\n",
       "      <td>AA</td>\n",
       "      <td>JFK</td>\n",
       "      <td>ORD</td>\n",
       "      <td>759</td>\n",
       "      <td>952</td>\n",
       "      <td>36.0</td>\n",
       "      <td>0.0</td>\n",
       "      <td>740.0</td>\n",
       "      <td>New York, NY</td>\n",
       "      <td>Chicago, IL</td>\n",
       "      <td>NaN</td>\n",
       "      <td>NaN</td>\n",
       "      <td>40.633333</td>\n",
       "      <td>-73.783333</td>\n",
       "    </tr>\n",
       "    <tr>\n",
       "      <th>4422</th>\n",
       "      <td>2015-01-10</td>\n",
       "      <td>AA</td>\n",
       "      <td>JFK</td>\n",
       "      <td>ORD</td>\n",
       "      <td>759</td>\n",
       "      <td>952</td>\n",
       "      <td>-11.0</td>\n",
       "      <td>0.0</td>\n",
       "      <td>740.0</td>\n",
       "      <td>New York, NY</td>\n",
       "      <td>Chicago, IL</td>\n",
       "      <td>NaN</td>\n",
       "      <td>NaN</td>\n",
       "      <td>40.633333</td>\n",
       "      <td>-73.783333</td>\n",
       "    </tr>\n",
       "  </tbody>\n",
       "</table>\n",
       "</div>"
      ],
      "text/plain": [
       "         FL_DATE UNIQUE_CARRIER ORIGIN DEST  CRS_DEP_TIME  CRS_ARR_TIME  \\\n",
       "4413  2015-01-01             AA    JFK  ORD           800           955   \n",
       "4414  2015-01-02             AA    JFK  ORD           800           955   \n",
       "4415  2015-01-03             AA    JFK  ORD           800           955   \n",
       "4416  2015-01-04             AA    JFK  ORD           800           955   \n",
       "4417  2015-01-05             AA    JFK  ORD           800           955   \n",
       "4418  2015-01-06             AA    JFK  ORD           759           952   \n",
       "4419  2015-01-07             AA    JFK  ORD           759           952   \n",
       "4420  2015-01-08             AA    JFK  ORD           759           952   \n",
       "4421  2015-01-09             AA    JFK  ORD           759           952   \n",
       "4422  2015-01-10             AA    JFK  ORD           759           952   \n",
       "\n",
       "      ARR_DELAY  DIVERTED  DISTANCE ORIGIN_CITY_NAME DEST_CITY_NAME  \\\n",
       "4413        2.0       0.0     740.0     New York, NY    Chicago, IL   \n",
       "4414       10.0       0.0     740.0     New York, NY    Chicago, IL   \n",
       "4415        9.0       0.0     740.0     New York, NY    Chicago, IL   \n",
       "4416       33.0       0.0     740.0     New York, NY    Chicago, IL   \n",
       "4417       41.0       0.0     740.0     New York, NY    Chicago, IL   \n",
       "4418       -7.0       0.0     740.0     New York, NY    Chicago, IL   \n",
       "4419      -21.0       0.0     740.0     New York, NY    Chicago, IL   \n",
       "4420       13.0       0.0     740.0     New York, NY    Chicago, IL   \n",
       "4421       36.0       0.0     740.0     New York, NY    Chicago, IL   \n",
       "4422      -11.0       0.0     740.0     New York, NY    Chicago, IL   \n",
       "\n",
       "     AIRCRAFT_YEAR AIRCRAFT_MFR        LAT       LONG  \n",
       "4413           NaN          NaN  40.633333 -73.783333  \n",
       "4414           NaN          NaN  40.633333 -73.783333  \n",
       "4415           NaN          NaN  40.633333 -73.783333  \n",
       "4416           NaN          NaN  40.633333 -73.783333  \n",
       "4417           NaN          NaN  40.633333 -73.783333  \n",
       "4418           NaN          NaN  40.633333 -73.783333  \n",
       "4419           NaN          NaN  40.633333 -73.783333  \n",
       "4420           NaN          NaN  40.633333 -73.783333  \n",
       "4421           NaN          NaN  40.633333 -73.783333  \n",
       "4422           NaN          NaN  40.633333 -73.783333  "
      ]
     },
     "execution_count": 61,
     "metadata": {},
     "output_type": "execute_result"
    }
   ],
   "source": [
    "dexample1.head(10)"
   ]
  },
  {
   "cell_type": "code",
   "execution_count": 62,
   "metadata": {
    "collapsed": false
   },
   "outputs": [
    {
     "data": {
      "text/plain": [
       "UNIQUE_CARRIER\n",
       "AA    6247\n",
       "B6    1034\n",
       "DL      33\n",
       "MQ     499\n",
       "NK     730\n",
       "OO     105\n",
       "UA    7811\n",
       "dtype: int64"
      ]
     },
     "execution_count": 62,
     "metadata": {},
     "output_type": "execute_result"
    }
   ],
   "source": [
    "dexample1.groupby('UNIQUE_CARRIER').size()"
   ]
  },
  {
   "cell_type": "code",
   "execution_count": 63,
   "metadata": {
    "collapsed": true
   },
   "outputs": [],
   "source": [
    "# In case we want to tackle a broader case, we can use this function. The droplist can be any list of carrier.\n",
    "def restrict_carrier(data, droplist):\n",
    "    for item in droplist:\n",
    "        data.drop(data[data.UNIQUE_CARRIER == item].index, inplace= True)\n",
    "    return "
   ]
  },
  {
   "cell_type": "code",
   "execution_count": 64,
   "metadata": {
    "collapsed": false
   },
   "outputs": [],
   "source": [
    "drop_airline = [ 'AS','DL', 'EV', 'F9', 'FL', 'HA', 'MQ', 'US', 'VX', 'WN']\n",
    "restrict_carrier(dexample1, drop_airline)"
   ]
  },
  {
   "cell_type": "markdown",
   "metadata": {},
   "source": [
    "### Extracting month and day"
   ]
  },
  {
   "cell_type": "code",
   "execution_count": 65,
   "metadata": {
    "collapsed": true
   },
   "outputs": [],
   "source": [
    "from time import strptime\n",
    "days = {0:\"Mon\", 1:\"Tues\", 2:\"Wed\", 3:\"Thurs\", 4:\"Fri\", 5:\"Sat\", 6:\"Sun\"}\n",
    "months = {1:\"Jan\", 2:\"Feb\", 3:\"Mar\", 4:\"Apr\", 5:\"May\", 6:\"June\", 7:\"July\", 8:\"Aug\", 9:\"Sep\", \\\n",
    "          10:\"Oct\", 11:\"Nov\", 12:\"Dec\"}"
   ]
  },
  {
   "cell_type": "code",
   "execution_count": 66,
   "metadata": {
    "collapsed": true
   },
   "outputs": [],
   "source": [
    "def adjust_time(data):\n",
    "    monlist = np.empty(len(data), dtype = str)\n",
    "    daylist = np.empty(len(data), dtype = str)\n",
    "    \n",
    "    for i in range(len(data)):\n",
    "        date= strptime(data.FL_DATE.iloc[i], \"%Y-%M-%d\")\n",
    "        monlist[i] = months[date.tm_min]\n",
    "        daylist[i] = days[date.tm_wday]\n",
    "\n",
    "    return monlist, daylist"
   ]
  },
  {
   "cell_type": "code",
   "execution_count": 67,
   "metadata": {
    "collapsed": false
   },
   "outputs": [
    {
     "name": "stdout",
     "output_type": "stream",
     "text": [
      "OK\n",
      "Index(['UNIQUE_CARRIER', 'ORIGIN', 'DEST', 'CRS_DEP_TIME', 'CRS_ARR_TIME',\n",
      "       'ARR_DELAY', 'DIVERTED', 'DISTANCE', 'ORIGIN_CITY_NAME',\n",
      "       'DEST_CITY_NAME', 'AIRCRAFT_YEAR', 'AIRCRAFT_MFR', 'LAT', 'LONG',\n",
      "       'MONTH', 'DAY'],\n",
      "      dtype='object')\n"
     ]
    }
   ],
   "source": [
    "# now add the weekday and the month columns created by the adjust_time\n",
    "monlist, daylist = adjust_time(dexample1)\n",
    "print (\"OK\")\n",
    "dexample1['MONTH'] = pd.Series(monlist, index=dexample1.index)\n",
    "dexample1['DAY'] = pd.Series(daylist, index=dexample1.index)\n",
    "if 'FL_DATE' in dexample1.columns:\n",
    "    dexample1.drop('FL_DATE', axis = 1, inplace= True)\n",
    "print (dexample1.columns)"
   ]
  },
  {
   "cell_type": "markdown",
   "metadata": {},
   "source": [
    "### Change the time formate"
   ]
  },
  {
   "cell_type": "markdown",
   "metadata": {},
   "source": [
    "Let's change teh format of all time entries. Instead of having hour : minute, we convert everything in minutes"
   ]
  },
  {
   "cell_type": "code",
   "execution_count": 68,
   "metadata": {
    "collapsed": false
   },
   "outputs": [
    {
     "name": "stdout",
     "output_type": "stream",
     "text": [
      "CPU times: user 36 ms, sys: 3.18 ms, total: 39.1 ms\n",
      "Wall time: 42 ms\n"
     ]
    }
   ],
   "source": [
    "%%time\n",
    "ti = lambda x : x/100 + x % 100\n",
    "dexample1['CRS_ARR_TIME_COR'] = dexample1.CRS_ARR_TIME.map(ti)\n",
    "dexample1['CRS_DEP_TIME_COR'] = dexample1.CRS_DEP_TIME.map(ti)\n",
    "dexample1.drop(['CRS_DEP_TIME', 'CRS_ARR_TIME'], axis = 1, inplace = True)"
   ]
  },
  {
   "cell_type": "markdown",
   "metadata": {},
   "source": [
    "### Data Normalization"
   ]
  },
  {
   "cell_type": "markdown",
   "metadata": {},
   "source": [
    "For getting better result from the regression model, we need to normalize the data collecting. The idea of our normalization is that if the variation of one feature A is higher than feature B, we believe the variation of A may completely contains the variation of B, which means feature B is less useful for the prediction model."
   ]
  },
  {
   "cell_type": "code",
   "execution_count": 69,
   "metadata": {
    "collapsed": true
   },
   "outputs": [],
   "source": [
    "def normalize(array):\n",
    "    mean = np.mean(array)\n",
    "    std = np.std(array)\n",
    "    return [(x - mean)/std for x in array]"
   ]
  },
  {
   "cell_type": "code",
   "execution_count": 70,
   "metadata": {
    "collapsed": true
   },
   "outputs": [],
   "source": [
    "def normalize_data(data, feature_list):\n",
    "    for feature in feature_list:\n",
    "        if feature in data.columns:\n",
    "            data[feature + '_NOR'] = normalize(data[feature].values)\n",
    "            data.drop(feature, axis =1, inplace=True)\n",
    "    return"
   ]
  },
  {
   "cell_type": "code",
   "execution_count": 42,
   "metadata": {
    "collapsed": true
   },
   "outputs": [],
   "source": [
    "dexample2 = dexample1"
   ]
  },
  {
   "cell_type": "code",
   "execution_count": 19,
   "metadata": {
    "collapsed": false
   },
   "outputs": [
    {
     "data": {
      "text/html": [
       "<div>\n",
       "<table border=\"1\" class=\"dataframe\">\n",
       "  <thead>\n",
       "    <tr style=\"text-align: right;\">\n",
       "      <th></th>\n",
       "      <th>UNIQUE_CARRIER</th>\n",
       "      <th>ORIGIN</th>\n",
       "      <th>DEST</th>\n",
       "      <th>ARR_DELAY</th>\n",
       "      <th>DIVERTED</th>\n",
       "      <th>DISTANCE</th>\n",
       "      <th>ORIGIN_CITY_NAME</th>\n",
       "      <th>DEST_CITY_NAME</th>\n",
       "      <th>AIRCRAFT_YEAR</th>\n",
       "      <th>AIRCRAFT_MFR</th>\n",
       "      <th>LAT</th>\n",
       "      <th>LONG</th>\n",
       "      <th>MONTH</th>\n",
       "      <th>DAY</th>\n",
       "      <th>CRS_ARR_TIME_COR</th>\n",
       "      <th>CRS_DEP_TIME_COR</th>\n",
       "    </tr>\n",
       "  </thead>\n",
       "  <tbody>\n",
       "    <tr>\n",
       "      <th>0</th>\n",
       "      <td>AA</td>\n",
       "      <td>JFK</td>\n",
       "      <td>LAX</td>\n",
       "      <td>7.0</td>\n",
       "      <td>0.0</td>\n",
       "      <td>2475.0</td>\n",
       "      <td>New York, NY</td>\n",
       "      <td>Los Angeles, CA</td>\n",
       "      <td>NaN</td>\n",
       "      <td>NaN</td>\n",
       "      <td>40.633333</td>\n",
       "      <td>-73.783333</td>\n",
       "      <td>J</td>\n",
       "      <td>T</td>\n",
       "      <td>42.3</td>\n",
       "      <td>9.0</td>\n",
       "    </tr>\n",
       "    <tr>\n",
       "      <th>1</th>\n",
       "      <td>AA</td>\n",
       "      <td>JFK</td>\n",
       "      <td>LAX</td>\n",
       "      <td>-19.0</td>\n",
       "      <td>0.0</td>\n",
       "      <td>2475.0</td>\n",
       "      <td>New York, NY</td>\n",
       "      <td>Los Angeles, CA</td>\n",
       "      <td>1959</td>\n",
       "      <td>BEECH</td>\n",
       "      <td>40.633333</td>\n",
       "      <td>-73.783333</td>\n",
       "      <td>J</td>\n",
       "      <td>F</td>\n",
       "      <td>42.3</td>\n",
       "      <td>9.0</td>\n",
       "    </tr>\n",
       "    <tr>\n",
       "      <th>2</th>\n",
       "      <td>AA</td>\n",
       "      <td>JFK</td>\n",
       "      <td>LAX</td>\n",
       "      <td>-39.0</td>\n",
       "      <td>0.0</td>\n",
       "      <td>2475.0</td>\n",
       "      <td>New York, NY</td>\n",
       "      <td>Los Angeles, CA</td>\n",
       "      <td>NaN</td>\n",
       "      <td>NaN</td>\n",
       "      <td>40.633333</td>\n",
       "      <td>-73.783333</td>\n",
       "      <td>J</td>\n",
       "      <td>S</td>\n",
       "      <td>42.3</td>\n",
       "      <td>9.0</td>\n",
       "    </tr>\n",
       "    <tr>\n",
       "      <th>3</th>\n",
       "      <td>AA</td>\n",
       "      <td>JFK</td>\n",
       "      <td>LAX</td>\n",
       "      <td>-12.0</td>\n",
       "      <td>0.0</td>\n",
       "      <td>2475.0</td>\n",
       "      <td>New York, NY</td>\n",
       "      <td>Los Angeles, CA</td>\n",
       "      <td>1979</td>\n",
       "      <td>BEECH</td>\n",
       "      <td>40.633333</td>\n",
       "      <td>-73.783333</td>\n",
       "      <td>J</td>\n",
       "      <td>S</td>\n",
       "      <td>42.3</td>\n",
       "      <td>9.0</td>\n",
       "    </tr>\n",
       "    <tr>\n",
       "      <th>4</th>\n",
       "      <td>AA</td>\n",
       "      <td>JFK</td>\n",
       "      <td>LAX</td>\n",
       "      <td>-8.0</td>\n",
       "      <td>0.0</td>\n",
       "      <td>2475.0</td>\n",
       "      <td>New York, NY</td>\n",
       "      <td>Los Angeles, CA</td>\n",
       "      <td>NaN</td>\n",
       "      <td>NaN</td>\n",
       "      <td>40.633333</td>\n",
       "      <td>-73.783333</td>\n",
       "      <td>J</td>\n",
       "      <td>M</td>\n",
       "      <td>42.3</td>\n",
       "      <td>9.0</td>\n",
       "    </tr>\n",
       "  </tbody>\n",
       "</table>\n",
       "</div>"
      ],
      "text/plain": [
       "  UNIQUE_CARRIER ORIGIN DEST  ARR_DELAY  DIVERTED  DISTANCE ORIGIN_CITY_NAME  \\\n",
       "0             AA    JFK  LAX        7.0       0.0    2475.0     New York, NY   \n",
       "1             AA    JFK  LAX      -19.0       0.0    2475.0     New York, NY   \n",
       "2             AA    JFK  LAX      -39.0       0.0    2475.0     New York, NY   \n",
       "3             AA    JFK  LAX      -12.0       0.0    2475.0     New York, NY   \n",
       "4             AA    JFK  LAX       -8.0       0.0    2475.0     New York, NY   \n",
       "\n",
       "    DEST_CITY_NAME AIRCRAFT_YEAR                    AIRCRAFT_MFR        LAT  \\\n",
       "0  Los Angeles, CA           NaN                             NaN  40.633333   \n",
       "1  Los Angeles, CA          1959  BEECH                           40.633333   \n",
       "2  Los Angeles, CA           NaN                             NaN  40.633333   \n",
       "3  Los Angeles, CA          1979  BEECH                           40.633333   \n",
       "4  Los Angeles, CA           NaN                             NaN  40.633333   \n",
       "\n",
       "        LONG MONTH DAY  CRS_ARR_TIME_COR  CRS_DEP_TIME_COR  \n",
       "0 -73.783333     J   T              42.3               9.0  \n",
       "1 -73.783333     J   F              42.3               9.0  \n",
       "2 -73.783333     J   S              42.3               9.0  \n",
       "3 -73.783333     J   S              42.3               9.0  \n",
       "4 -73.783333     J   M              42.3               9.0  "
      ]
     },
     "execution_count": 19,
     "metadata": {},
     "output_type": "execute_result"
    }
   ],
   "source": [
    "dexample1.head(5)"
   ]
  },
  {
   "cell_type": "code",
   "execution_count": 71,
   "metadata": {
    "collapsed": false
   },
   "outputs": [],
   "source": [
    "dexample2 = dexample1.fillna(0)"
   ]
  },
  {
   "cell_type": "code",
   "execution_count": 72,
   "metadata": {
    "collapsed": false
   },
   "outputs": [
    {
     "data": {
      "text/html": [
       "<div>\n",
       "<table border=\"1\" class=\"dataframe\">\n",
       "  <thead>\n",
       "    <tr style=\"text-align: right;\">\n",
       "      <th></th>\n",
       "      <th>UNIQUE_CARRIER</th>\n",
       "      <th>ORIGIN</th>\n",
       "      <th>DEST</th>\n",
       "      <th>ARR_DELAY</th>\n",
       "      <th>DIVERTED</th>\n",
       "      <th>DISTANCE</th>\n",
       "      <th>ORIGIN_CITY_NAME</th>\n",
       "      <th>DEST_CITY_NAME</th>\n",
       "      <th>AIRCRAFT_YEAR</th>\n",
       "      <th>AIRCRAFT_MFR</th>\n",
       "      <th>LAT</th>\n",
       "      <th>LONG</th>\n",
       "      <th>MONTH</th>\n",
       "      <th>DAY</th>\n",
       "      <th>CRS_ARR_TIME_COR</th>\n",
       "      <th>CRS_DEP_TIME_COR</th>\n",
       "    </tr>\n",
       "  </thead>\n",
       "  <tbody>\n",
       "    <tr>\n",
       "      <th>4413</th>\n",
       "      <td>AA</td>\n",
       "      <td>JFK</td>\n",
       "      <td>ORD</td>\n",
       "      <td>2.0</td>\n",
       "      <td>0.0</td>\n",
       "      <td>740.0</td>\n",
       "      <td>New York, NY</td>\n",
       "      <td>Chicago, IL</td>\n",
       "      <td>0</td>\n",
       "      <td>0</td>\n",
       "      <td>40.633333</td>\n",
       "      <td>-73.783333</td>\n",
       "      <td>J</td>\n",
       "      <td>T</td>\n",
       "      <td>64.55</td>\n",
       "      <td>8.0</td>\n",
       "    </tr>\n",
       "    <tr>\n",
       "      <th>4414</th>\n",
       "      <td>AA</td>\n",
       "      <td>JFK</td>\n",
       "      <td>ORD</td>\n",
       "      <td>10.0</td>\n",
       "      <td>0.0</td>\n",
       "      <td>740.0</td>\n",
       "      <td>New York, NY</td>\n",
       "      <td>Chicago, IL</td>\n",
       "      <td>0</td>\n",
       "      <td>0</td>\n",
       "      <td>40.633333</td>\n",
       "      <td>-73.783333</td>\n",
       "      <td>J</td>\n",
       "      <td>F</td>\n",
       "      <td>64.55</td>\n",
       "      <td>8.0</td>\n",
       "    </tr>\n",
       "    <tr>\n",
       "      <th>4415</th>\n",
       "      <td>AA</td>\n",
       "      <td>JFK</td>\n",
       "      <td>ORD</td>\n",
       "      <td>9.0</td>\n",
       "      <td>0.0</td>\n",
       "      <td>740.0</td>\n",
       "      <td>New York, NY</td>\n",
       "      <td>Chicago, IL</td>\n",
       "      <td>0</td>\n",
       "      <td>0</td>\n",
       "      <td>40.633333</td>\n",
       "      <td>-73.783333</td>\n",
       "      <td>J</td>\n",
       "      <td>S</td>\n",
       "      <td>64.55</td>\n",
       "      <td>8.0</td>\n",
       "    </tr>\n",
       "    <tr>\n",
       "      <th>4416</th>\n",
       "      <td>AA</td>\n",
       "      <td>JFK</td>\n",
       "      <td>ORD</td>\n",
       "      <td>33.0</td>\n",
       "      <td>0.0</td>\n",
       "      <td>740.0</td>\n",
       "      <td>New York, NY</td>\n",
       "      <td>Chicago, IL</td>\n",
       "      <td>0</td>\n",
       "      <td>0</td>\n",
       "      <td>40.633333</td>\n",
       "      <td>-73.783333</td>\n",
       "      <td>J</td>\n",
       "      <td>S</td>\n",
       "      <td>64.55</td>\n",
       "      <td>8.0</td>\n",
       "    </tr>\n",
       "    <tr>\n",
       "      <th>4417</th>\n",
       "      <td>AA</td>\n",
       "      <td>JFK</td>\n",
       "      <td>ORD</td>\n",
       "      <td>41.0</td>\n",
       "      <td>0.0</td>\n",
       "      <td>740.0</td>\n",
       "      <td>New York, NY</td>\n",
       "      <td>Chicago, IL</td>\n",
       "      <td>0</td>\n",
       "      <td>0</td>\n",
       "      <td>40.633333</td>\n",
       "      <td>-73.783333</td>\n",
       "      <td>J</td>\n",
       "      <td>M</td>\n",
       "      <td>64.55</td>\n",
       "      <td>8.0</td>\n",
       "    </tr>\n",
       "  </tbody>\n",
       "</table>\n",
       "</div>"
      ],
      "text/plain": [
       "     UNIQUE_CARRIER ORIGIN DEST  ARR_DELAY  DIVERTED  DISTANCE  \\\n",
       "4413             AA    JFK  ORD        2.0       0.0     740.0   \n",
       "4414             AA    JFK  ORD       10.0       0.0     740.0   \n",
       "4415             AA    JFK  ORD        9.0       0.0     740.0   \n",
       "4416             AA    JFK  ORD       33.0       0.0     740.0   \n",
       "4417             AA    JFK  ORD       41.0       0.0     740.0   \n",
       "\n",
       "     ORIGIN_CITY_NAME DEST_CITY_NAME AIRCRAFT_YEAR AIRCRAFT_MFR        LAT  \\\n",
       "4413     New York, NY    Chicago, IL             0            0  40.633333   \n",
       "4414     New York, NY    Chicago, IL             0            0  40.633333   \n",
       "4415     New York, NY    Chicago, IL             0            0  40.633333   \n",
       "4416     New York, NY    Chicago, IL             0            0  40.633333   \n",
       "4417     New York, NY    Chicago, IL             0            0  40.633333   \n",
       "\n",
       "           LONG MONTH DAY  CRS_ARR_TIME_COR  CRS_DEP_TIME_COR  \n",
       "4413 -73.783333     J   T             64.55               8.0  \n",
       "4414 -73.783333     J   F             64.55               8.0  \n",
       "4415 -73.783333     J   S             64.55               8.0  \n",
       "4416 -73.783333     J   S             64.55               8.0  \n",
       "4417 -73.783333     J   M             64.55               8.0  "
      ]
     },
     "execution_count": 72,
     "metadata": {},
     "output_type": "execute_result"
    }
   ],
   "source": [
    "dexample2.head()"
   ]
  },
  {
   "cell_type": "code",
   "execution_count": null,
   "metadata": {
    "collapsed": true
   },
   "outputs": [],
   "source": [
    "dexample2.drop(dexample2[dexample2.AIRCRAFT_YEAR =='0'].index, inplace = True)\n",
    "dexample2['AIRCRAFT_YEAR_COR'] = dexample2.AIRCRAFT_YEAR.map(lambda x: int(x))\n",
    "dexample2.drop('AIRCRAFT_YEAR', axis = 1, inplace = True)"
   ]
  },
  {
   "cell_type": "code",
   "execution_count": 135,
   "metadata": {
    "collapsed": true
   },
   "outputs": [],
   "source": [
    "normalize_data(dexample2, ['DISTANCE', 'LAT', 'LONG', 'CRS_ARR_TIME_COR', 'CRS_DEP_TIME_COR', 'AIRCRAFT_YEAR_COR'])"
   ]
  },
  {
   "cell_type": "code",
   "execution_count": 136,
   "metadata": {
    "collapsed": false
   },
   "outputs": [
    {
     "data": {
      "text/html": [
       "<div>\n",
       "<table border=\"1\" class=\"dataframe\">\n",
       "  <thead>\n",
       "    <tr style=\"text-align: right;\">\n",
       "      <th></th>\n",
       "      <th>UNIQUE_CARRIER</th>\n",
       "      <th>ORIGIN</th>\n",
       "      <th>DEST</th>\n",
       "      <th>ARR_DELAY</th>\n",
       "      <th>DIVERTED</th>\n",
       "      <th>ORIGIN_CITY_NAME</th>\n",
       "      <th>DEST_CITY_NAME</th>\n",
       "      <th>AIRCRAFT_MFR</th>\n",
       "      <th>MONTH</th>\n",
       "      <th>DAY</th>\n",
       "      <th>DISTANCE_NOR</th>\n",
       "      <th>LAT_NOR</th>\n",
       "      <th>LONG_NOR</th>\n",
       "      <th>CRS_ARR_TIME_COR_NOR</th>\n",
       "      <th>CRS_DEP_TIME_COR_NOR</th>\n",
       "      <th>AIRCRAFT_YEAR_COR_NOR</th>\n",
       "    </tr>\n",
       "  </thead>\n",
       "  <tbody>\n",
       "    <tr>\n",
       "      <th>4413</th>\n",
       "      <td>AA</td>\n",
       "      <td>JFK</td>\n",
       "      <td>ORD</td>\n",
       "      <td>2.0</td>\n",
       "      <td>0.0</td>\n",
       "      <td>New York, NY</td>\n",
       "      <td>Chicago, IL</td>\n",
       "      <td>0</td>\n",
       "      <td>J</td>\n",
       "      <td>T</td>\n",
       "      <td>1.422153</td>\n",
       "      <td>-2.177843</td>\n",
       "      <td>1.06908</td>\n",
       "      <td>1.03016</td>\n",
       "      <td>-1.246569</td>\n",
       "      <td>-1.221363</td>\n",
       "    </tr>\n",
       "    <tr>\n",
       "      <th>4414</th>\n",
       "      <td>AA</td>\n",
       "      <td>JFK</td>\n",
       "      <td>ORD</td>\n",
       "      <td>10.0</td>\n",
       "      <td>0.0</td>\n",
       "      <td>New York, NY</td>\n",
       "      <td>Chicago, IL</td>\n",
       "      <td>0</td>\n",
       "      <td>J</td>\n",
       "      <td>F</td>\n",
       "      <td>1.422153</td>\n",
       "      <td>-2.177843</td>\n",
       "      <td>1.06908</td>\n",
       "      <td>1.03016</td>\n",
       "      <td>-1.246569</td>\n",
       "      <td>-1.221363</td>\n",
       "    </tr>\n",
       "    <tr>\n",
       "      <th>4415</th>\n",
       "      <td>AA</td>\n",
       "      <td>JFK</td>\n",
       "      <td>ORD</td>\n",
       "      <td>9.0</td>\n",
       "      <td>0.0</td>\n",
       "      <td>New York, NY</td>\n",
       "      <td>Chicago, IL</td>\n",
       "      <td>0</td>\n",
       "      <td>J</td>\n",
       "      <td>S</td>\n",
       "      <td>1.422153</td>\n",
       "      <td>-2.177843</td>\n",
       "      <td>1.06908</td>\n",
       "      <td>1.03016</td>\n",
       "      <td>-1.246569</td>\n",
       "      <td>-1.221363</td>\n",
       "    </tr>\n",
       "  </tbody>\n",
       "</table>\n",
       "</div>"
      ],
      "text/plain": [
       "     UNIQUE_CARRIER ORIGIN DEST  ARR_DELAY  DIVERTED ORIGIN_CITY_NAME  \\\n",
       "4413             AA    JFK  ORD        2.0       0.0     New York, NY   \n",
       "4414             AA    JFK  ORD       10.0       0.0     New York, NY   \n",
       "4415             AA    JFK  ORD        9.0       0.0     New York, NY   \n",
       "\n",
       "     DEST_CITY_NAME AIRCRAFT_MFR MONTH DAY  DISTANCE_NOR   LAT_NOR  LONG_NOR  \\\n",
       "4413    Chicago, IL            0     J   T      1.422153 -2.177843   1.06908   \n",
       "4414    Chicago, IL            0     J   F      1.422153 -2.177843   1.06908   \n",
       "4415    Chicago, IL            0     J   S      1.422153 -2.177843   1.06908   \n",
       "\n",
       "      CRS_ARR_TIME_COR_NOR  CRS_DEP_TIME_COR_NOR  AIRCRAFT_YEAR_COR_NOR  \n",
       "4413               1.03016             -1.246569              -1.221363  \n",
       "4414               1.03016             -1.246569              -1.221363  \n",
       "4415               1.03016             -1.246569              -1.221363  "
      ]
     },
     "execution_count": 136,
     "metadata": {},
     "output_type": "execute_result"
    }
   ],
   "source": [
    "dexample2.head(3)"
   ]
  },
  {
   "cell_type": "markdown",
   "metadata": {},
   "source": [
    "### Encode Categorical Data Columns"
   ]
  },
  {
   "cell_type": "markdown",
   "metadata": {},
   "source": [
    "In our dataset, there are several categorical features which is hard for classification and regression, so we decide to use 'pd.get_dummies' to encode these features as series of indicators. To be specific, if one feature has n categories, this method will create n indicator, and indicator function I(n) takes the value 1 if the feature record belongs to I(k) category. To some extent, the corresponding resulting dataframe of these categorical feature columns become a sparse matrix. "
   ]
  },
  {
   "cell_type": "code",
   "execution_count": 137,
   "metadata": {
    "collapsed": true
   },
   "outputs": [],
   "source": [
    "encoded_list = ['UNIQUE_CARRIER', 'ORIGIN', 'DEST', 'AIRCRAFT_MFR', 'MONTH','DAY']\n",
    "dexample2 = pd.get_dummies(dexample2, columns=encoded_list)"
   ]
  },
  {
   "cell_type": "code",
   "execution_count": 139,
   "metadata": {
    "collapsed": false
   },
   "outputs": [
    {
     "data": {
      "text/html": [
       "<div>\n",
       "<table border=\"1\" class=\"dataframe\">\n",
       "  <thead>\n",
       "    <tr style=\"text-align: right;\">\n",
       "      <th></th>\n",
       "      <th>ARR_DELAY</th>\n",
       "      <th>DIVERTED</th>\n",
       "      <th>ORIGIN_CITY_NAME</th>\n",
       "      <th>DEST_CITY_NAME</th>\n",
       "      <th>DISTANCE_NOR</th>\n",
       "      <th>LAT_NOR</th>\n",
       "      <th>LONG_NOR</th>\n",
       "      <th>CRS_ARR_TIME_COR_NOR</th>\n",
       "      <th>CRS_DEP_TIME_COR_NOR</th>\n",
       "      <th>AIRCRAFT_YEAR_COR_NOR</th>\n",
       "      <th>...</th>\n",
       "      <th>MONTH_J</th>\n",
       "      <th>MONTH_M</th>\n",
       "      <th>MONTH_N</th>\n",
       "      <th>MONTH_O</th>\n",
       "      <th>MONTH_S</th>\n",
       "      <th>DAY_F</th>\n",
       "      <th>DAY_M</th>\n",
       "      <th>DAY_S</th>\n",
       "      <th>DAY_T</th>\n",
       "      <th>DAY_W</th>\n",
       "    </tr>\n",
       "  </thead>\n",
       "  <tbody>\n",
       "    <tr>\n",
       "      <th>4413</th>\n",
       "      <td>2.0</td>\n",
       "      <td>0.0</td>\n",
       "      <td>New York, NY</td>\n",
       "      <td>Chicago, IL</td>\n",
       "      <td>1.422153</td>\n",
       "      <td>-2.177843</td>\n",
       "      <td>1.06908</td>\n",
       "      <td>1.03016</td>\n",
       "      <td>-1.246569</td>\n",
       "      <td>-1.221363</td>\n",
       "      <td>...</td>\n",
       "      <td>1.0</td>\n",
       "      <td>0.0</td>\n",
       "      <td>0.0</td>\n",
       "      <td>0.0</td>\n",
       "      <td>0.0</td>\n",
       "      <td>0.0</td>\n",
       "      <td>0.0</td>\n",
       "      <td>0.0</td>\n",
       "      <td>1.0</td>\n",
       "      <td>0.0</td>\n",
       "    </tr>\n",
       "    <tr>\n",
       "      <th>4414</th>\n",
       "      <td>10.0</td>\n",
       "      <td>0.0</td>\n",
       "      <td>New York, NY</td>\n",
       "      <td>Chicago, IL</td>\n",
       "      <td>1.422153</td>\n",
       "      <td>-2.177843</td>\n",
       "      <td>1.06908</td>\n",
       "      <td>1.03016</td>\n",
       "      <td>-1.246569</td>\n",
       "      <td>-1.221363</td>\n",
       "      <td>...</td>\n",
       "      <td>1.0</td>\n",
       "      <td>0.0</td>\n",
       "      <td>0.0</td>\n",
       "      <td>0.0</td>\n",
       "      <td>0.0</td>\n",
       "      <td>1.0</td>\n",
       "      <td>0.0</td>\n",
       "      <td>0.0</td>\n",
       "      <td>0.0</td>\n",
       "      <td>0.0</td>\n",
       "    </tr>\n",
       "    <tr>\n",
       "      <th>4415</th>\n",
       "      <td>9.0</td>\n",
       "      <td>0.0</td>\n",
       "      <td>New York, NY</td>\n",
       "      <td>Chicago, IL</td>\n",
       "      <td>1.422153</td>\n",
       "      <td>-2.177843</td>\n",
       "      <td>1.06908</td>\n",
       "      <td>1.03016</td>\n",
       "      <td>-1.246569</td>\n",
       "      <td>-1.221363</td>\n",
       "      <td>...</td>\n",
       "      <td>1.0</td>\n",
       "      <td>0.0</td>\n",
       "      <td>0.0</td>\n",
       "      <td>0.0</td>\n",
       "      <td>0.0</td>\n",
       "      <td>0.0</td>\n",
       "      <td>0.0</td>\n",
       "      <td>1.0</td>\n",
       "      <td>0.0</td>\n",
       "      <td>0.0</td>\n",
       "    </tr>\n",
       "  </tbody>\n",
       "</table>\n",
       "<p>3 rows × 46 columns</p>\n",
       "</div>"
      ],
      "text/plain": [
       "      ARR_DELAY  DIVERTED ORIGIN_CITY_NAME DEST_CITY_NAME  DISTANCE_NOR  \\\n",
       "4413        2.0       0.0     New York, NY    Chicago, IL      1.422153   \n",
       "4414       10.0       0.0     New York, NY    Chicago, IL      1.422153   \n",
       "4415        9.0       0.0     New York, NY    Chicago, IL      1.422153   \n",
       "\n",
       "       LAT_NOR  LONG_NOR  CRS_ARR_TIME_COR_NOR  CRS_DEP_TIME_COR_NOR  \\\n",
       "4413 -2.177843   1.06908               1.03016             -1.246569   \n",
       "4414 -2.177843   1.06908               1.03016             -1.246569   \n",
       "4415 -2.177843   1.06908               1.03016             -1.246569   \n",
       "\n",
       "      AIRCRAFT_YEAR_COR_NOR  ...    MONTH_J  MONTH_M  MONTH_N  MONTH_O  \\\n",
       "4413              -1.221363  ...        1.0      0.0      0.0      0.0   \n",
       "4414              -1.221363  ...        1.0      0.0      0.0      0.0   \n",
       "4415              -1.221363  ...        1.0      0.0      0.0      0.0   \n",
       "\n",
       "      MONTH_S  DAY_F  DAY_M  DAY_S  DAY_T  DAY_W  \n",
       "4413      0.0    0.0    0.0    0.0    1.0    0.0  \n",
       "4414      0.0    1.0    0.0    0.0    0.0    0.0  \n",
       "4415      0.0    0.0    0.0    1.0    0.0    0.0  \n",
       "\n",
       "[3 rows x 46 columns]"
      ]
     },
     "execution_count": 139,
     "metadata": {},
     "output_type": "execute_result"
    }
   ],
   "source": [
    "dexample2.head(3)"
   ]
  },
  {
   "cell_type": "code",
   "execution_count": 156,
   "metadata": {
    "collapsed": true
   },
   "outputs": [],
   "source": [
    "drop1 = ['ORIGIN_CITY_NAME','DEST_CITY_NAME','DIVERTED']"
   ]
  },
  {
   "cell_type": "code",
   "execution_count": 157,
   "metadata": {
    "collapsed": false
   },
   "outputs": [],
   "source": [
    "dexample3 = dexample2.copy().drop(drop1, axis =1)"
   ]
  },
  {
   "cell_type": "code",
   "execution_count": 158,
   "metadata": {
    "collapsed": false
   },
   "outputs": [
    {
     "data": {
      "text/html": [
       "<div>\n",
       "<table border=\"1\" class=\"dataframe\">\n",
       "  <thead>\n",
       "    <tr style=\"text-align: right;\">\n",
       "      <th></th>\n",
       "      <th>ARR_DELAY</th>\n",
       "      <th>DISTANCE_NOR</th>\n",
       "      <th>LAT_NOR</th>\n",
       "      <th>LONG_NOR</th>\n",
       "      <th>CRS_ARR_TIME_COR_NOR</th>\n",
       "      <th>CRS_DEP_TIME_COR_NOR</th>\n",
       "      <th>AIRCRAFT_YEAR_COR_NOR</th>\n",
       "      <th>UNIQUE_CARRIER_AA</th>\n",
       "      <th>UNIQUE_CARRIER_B6</th>\n",
       "      <th>UNIQUE_CARRIER_NK</th>\n",
       "      <th>...</th>\n",
       "      <th>MONTH_J</th>\n",
       "      <th>MONTH_M</th>\n",
       "      <th>MONTH_N</th>\n",
       "      <th>MONTH_O</th>\n",
       "      <th>MONTH_S</th>\n",
       "      <th>DAY_F</th>\n",
       "      <th>DAY_M</th>\n",
       "      <th>DAY_S</th>\n",
       "      <th>DAY_T</th>\n",
       "      <th>DAY_W</th>\n",
       "    </tr>\n",
       "  </thead>\n",
       "  <tbody>\n",
       "    <tr>\n",
       "      <th>4413</th>\n",
       "      <td>2.0</td>\n",
       "      <td>1.422153</td>\n",
       "      <td>-2.177843</td>\n",
       "      <td>1.06908</td>\n",
       "      <td>1.03016</td>\n",
       "      <td>-1.246569</td>\n",
       "      <td>-1.221363</td>\n",
       "      <td>1.0</td>\n",
       "      <td>0.0</td>\n",
       "      <td>0.0</td>\n",
       "      <td>...</td>\n",
       "      <td>1.0</td>\n",
       "      <td>0.0</td>\n",
       "      <td>0.0</td>\n",
       "      <td>0.0</td>\n",
       "      <td>0.0</td>\n",
       "      <td>0.0</td>\n",
       "      <td>0.0</td>\n",
       "      <td>0.0</td>\n",
       "      <td>1.0</td>\n",
       "      <td>0.0</td>\n",
       "    </tr>\n",
       "    <tr>\n",
       "      <th>4414</th>\n",
       "      <td>10.0</td>\n",
       "      <td>1.422153</td>\n",
       "      <td>-2.177843</td>\n",
       "      <td>1.06908</td>\n",
       "      <td>1.03016</td>\n",
       "      <td>-1.246569</td>\n",
       "      <td>-1.221363</td>\n",
       "      <td>1.0</td>\n",
       "      <td>0.0</td>\n",
       "      <td>0.0</td>\n",
       "      <td>...</td>\n",
       "      <td>1.0</td>\n",
       "      <td>0.0</td>\n",
       "      <td>0.0</td>\n",
       "      <td>0.0</td>\n",
       "      <td>0.0</td>\n",
       "      <td>1.0</td>\n",
       "      <td>0.0</td>\n",
       "      <td>0.0</td>\n",
       "      <td>0.0</td>\n",
       "      <td>0.0</td>\n",
       "    </tr>\n",
       "    <tr>\n",
       "      <th>4415</th>\n",
       "      <td>9.0</td>\n",
       "      <td>1.422153</td>\n",
       "      <td>-2.177843</td>\n",
       "      <td>1.06908</td>\n",
       "      <td>1.03016</td>\n",
       "      <td>-1.246569</td>\n",
       "      <td>-1.221363</td>\n",
       "      <td>1.0</td>\n",
       "      <td>0.0</td>\n",
       "      <td>0.0</td>\n",
       "      <td>...</td>\n",
       "      <td>1.0</td>\n",
       "      <td>0.0</td>\n",
       "      <td>0.0</td>\n",
       "      <td>0.0</td>\n",
       "      <td>0.0</td>\n",
       "      <td>0.0</td>\n",
       "      <td>0.0</td>\n",
       "      <td>1.0</td>\n",
       "      <td>0.0</td>\n",
       "      <td>0.0</td>\n",
       "    </tr>\n",
       "    <tr>\n",
       "      <th>4416</th>\n",
       "      <td>33.0</td>\n",
       "      <td>1.422153</td>\n",
       "      <td>-2.177843</td>\n",
       "      <td>1.06908</td>\n",
       "      <td>1.03016</td>\n",
       "      <td>-1.246569</td>\n",
       "      <td>-1.221363</td>\n",
       "      <td>1.0</td>\n",
       "      <td>0.0</td>\n",
       "      <td>0.0</td>\n",
       "      <td>...</td>\n",
       "      <td>1.0</td>\n",
       "      <td>0.0</td>\n",
       "      <td>0.0</td>\n",
       "      <td>0.0</td>\n",
       "      <td>0.0</td>\n",
       "      <td>0.0</td>\n",
       "      <td>0.0</td>\n",
       "      <td>1.0</td>\n",
       "      <td>0.0</td>\n",
       "      <td>0.0</td>\n",
       "    </tr>\n",
       "    <tr>\n",
       "      <th>4417</th>\n",
       "      <td>41.0</td>\n",
       "      <td>1.422153</td>\n",
       "      <td>-2.177843</td>\n",
       "      <td>1.06908</td>\n",
       "      <td>1.03016</td>\n",
       "      <td>-1.246569</td>\n",
       "      <td>-1.221363</td>\n",
       "      <td>1.0</td>\n",
       "      <td>0.0</td>\n",
       "      <td>0.0</td>\n",
       "      <td>...</td>\n",
       "      <td>1.0</td>\n",
       "      <td>0.0</td>\n",
       "      <td>0.0</td>\n",
       "      <td>0.0</td>\n",
       "      <td>0.0</td>\n",
       "      <td>0.0</td>\n",
       "      <td>1.0</td>\n",
       "      <td>0.0</td>\n",
       "      <td>0.0</td>\n",
       "      <td>0.0</td>\n",
       "    </tr>\n",
       "  </tbody>\n",
       "</table>\n",
       "<p>5 rows × 43 columns</p>\n",
       "</div>"
      ],
      "text/plain": [
       "      ARR_DELAY  DISTANCE_NOR   LAT_NOR  LONG_NOR  CRS_ARR_TIME_COR_NOR  \\\n",
       "4413        2.0      1.422153 -2.177843   1.06908               1.03016   \n",
       "4414       10.0      1.422153 -2.177843   1.06908               1.03016   \n",
       "4415        9.0      1.422153 -2.177843   1.06908               1.03016   \n",
       "4416       33.0      1.422153 -2.177843   1.06908               1.03016   \n",
       "4417       41.0      1.422153 -2.177843   1.06908               1.03016   \n",
       "\n",
       "      CRS_DEP_TIME_COR_NOR  AIRCRAFT_YEAR_COR_NOR  UNIQUE_CARRIER_AA  \\\n",
       "4413             -1.246569              -1.221363                1.0   \n",
       "4414             -1.246569              -1.221363                1.0   \n",
       "4415             -1.246569              -1.221363                1.0   \n",
       "4416             -1.246569              -1.221363                1.0   \n",
       "4417             -1.246569              -1.221363                1.0   \n",
       "\n",
       "      UNIQUE_CARRIER_B6  UNIQUE_CARRIER_NK  ...    MONTH_J  MONTH_M  MONTH_N  \\\n",
       "4413                0.0                0.0  ...        1.0      0.0      0.0   \n",
       "4414                0.0                0.0  ...        1.0      0.0      0.0   \n",
       "4415                0.0                0.0  ...        1.0      0.0      0.0   \n",
       "4416                0.0                0.0  ...        1.0      0.0      0.0   \n",
       "4417                0.0                0.0  ...        1.0      0.0      0.0   \n",
       "\n",
       "      MONTH_O  MONTH_S  DAY_F  DAY_M  DAY_S  DAY_T  DAY_W  \n",
       "4413      0.0      0.0    0.0    0.0    0.0    1.0    0.0  \n",
       "4414      0.0      0.0    1.0    0.0    0.0    0.0    0.0  \n",
       "4415      0.0      0.0    0.0    0.0    1.0    0.0    0.0  \n",
       "4416      0.0      0.0    0.0    0.0    1.0    0.0    0.0  \n",
       "4417      0.0      0.0    0.0    1.0    0.0    0.0    0.0  \n",
       "\n",
       "[5 rows x 43 columns]"
      ]
     },
     "execution_count": 158,
     "metadata": {},
     "output_type": "execute_result"
    }
   ],
   "source": [
    "dexample3.head(5)"
   ]
  },
  {
   "cell_type": "code",
   "execution_count": 159,
   "metadata": {
    "collapsed": true
   },
   "outputs": [],
   "source": [
    "file_path = \"dexample.csv\"\n",
    "dexample3.to_csv(path_or_buf= file_path)"
   ]
  },
  {
   "cell_type": "markdown",
   "metadata": {},
   "source": [
    "## 3.2 RandomForestRegressor"
   ]
  },
  {
   "cell_type": "markdown",
   "metadata": {},
   "source": [
    "Our final goal is to predict the delay of flight, so we decide to apply random forest first. In general, a random forest is a meta estimator that fits a number of decision tree classifiers on various sub-samples of the dataset and use averaging to improve the predictive accuracy and control over-fitting."
   ]
  },
  {
   "cell_type": "code",
   "execution_count": 9,
   "metadata": {
    "collapsed": true
   },
   "outputs": [],
   "source": [
    "%matplotlib inline\n",
    "import numpy as np\n",
    "import pandas as pd\n",
    "import math\n",
    "import random\n",
    "from sklearn.cross_validation import train_test_split\n",
    "from sklearn.ensemble import RandomForestRegressor\n",
    "from sklearn.metrics import mean_squared_error"
   ]
  },
  {
   "cell_type": "code",
   "execution_count": 2,
   "metadata": {
    "collapsed": false
   },
   "outputs": [],
   "source": [
    "dexample = pd.DataFrame.from_csv('dexample.csv')"
   ]
  },
  {
   "cell_type": "markdown",
   "metadata": {},
   "source": [
    "### Creating Baseline"
   ]
  },
  {
   "cell_type": "markdown",
   "metadata": {},
   "source": [
    "Firstly, we create a baseline predictor that returns the mean of data set. The measure of accuracy of a predictor will be its mean square error against a test set distinct from the training set."
   ]
  },
  {
   "cell_type": "code",
   "execution_count": 10,
   "metadata": {
    "collapsed": true
   },
   "outputs": [],
   "source": [
    "def baseline_predictor(data):\n",
    "    return np.mean(data.ARR_DELAY.values)"
   ]
  },
  {
   "cell_type": "code",
   "execution_count": 11,
   "metadata": {
    "collapsed": false
   },
   "outputs": [
    {
     "name": "stdout",
     "output_type": "stream",
     "text": [
      "MSE of the mean predictor: 2237.04232208\n"
     ]
    }
   ],
   "source": [
    "print (\"MSE of the mean predictor:\" , \\\n",
    "mean_squared_error(dexample.ARR_DELAY.values, [baseline_predictor(dexample) for x in range(len(dexample))]))"
   ]
  },
  {
   "cell_type": "markdown",
   "metadata": {},
   "source": [
    "### Spliting the dataset to training and testing"
   ]
  },
  {
   "cell_type": "markdown",
   "metadata": {},
   "source": [
    "70% training set and 30% testing set."
   ]
  },
  {
   "cell_type": "code",
   "execution_count": 12,
   "metadata": {
    "collapsed": true
   },
   "outputs": [],
   "source": [
    "def split(data, list_drop, target, test_size):\n",
    "    #split the dataset into a training set and a test set\n",
    "    dtrain, dtest = train_test_split(data, test_size = 0.3)\n",
    "    \n",
    "    Xtrain = dtrain.drop(list_drop, axis=1).values\n",
    "    ytrain = dtrain[target].values\n",
    "    Xtest = dtest.drop(list_drop, axis=1).values\n",
    "    ytest = dtest[target].values\n",
    "    \n",
    "    return Xtrain, ytrain, Xtest, ytest"
   ]
  },
  {
   "cell_type": "markdown",
   "metadata": {},
   "source": [
    "The score_random_forest trains a classifier and estimates its scores on the test set and the training set."
   ]
  },
  {
   "cell_type": "code",
   "execution_count": 13,
   "metadata": {
    "collapsed": true
   },
   "outputs": [],
   "source": [
    "def score_random_forest(Xtrain, ytrain, Xtest, ytest, n_trees=10, max_features='auto'):\n",
    "    clf= RandomForestRegressor(n_estimators=n_trees, max_features= max_features)\n",
    "    clf.fit(Xtrain, ytrain)\n",
    "    \n",
    "    score_train = mean_squared_error(clf.predict(Xtrain), ytrain)\n",
    "    score_test = mean_squared_error(clf.predict(Xtest), ytest)\n",
    "    \n",
    "    return  score_train, score_test, clf"
   ]
  },
  {
   "cell_type": "markdown",
   "metadata": {},
   "source": [
    "The best_parameters tries different parameter values for the regressor"
   ]
  },
  {
   "cell_type": "code",
   "execution_count": 14,
   "metadata": {
    "collapsed": true
   },
   "outputs": [],
   "source": [
    "def best_parameters(Xtrain, ytrain, Xtest, ytest, nb_trees, nb_features):\n",
    "    score_tab = pd.DataFrame(columns=['nb_trees', 'nb_features', 'test_score', 'train_score', 'classifier'])\n",
    "    \n",
    "    # counter will increment the index in score_tab\n",
    "    counter = 0 \n",
    "\n",
    "    for n_estimators in nb_trees:\n",
    "        for max_features in nb_features:\n",
    "\n",
    "            score_train, score_test, classifier = \\\n",
    "            score_random_forest(Xtrain, ytrain, Xtest, ytest, n_trees=n_estimators, max_features=max_features) \n",
    "            score_tab.loc[counter] = [n_estimators, max_features, score_test, score_train, classifier]\n",
    "            counter += 1\n",
    "\n",
    "    return score_tab"
   ]
  },
  {
   "cell_type": "code",
   "execution_count": 15,
   "metadata": {
    "collapsed": true
   },
   "outputs": [],
   "source": [
    "def classify_random_forest(data, list_drop, target, test_size=0.4, nb_trees=[10], nb_features = ['f1']):\n",
    "    Xtrain, ytrain, Xtest, ytest = split(data, list_drop, target, test_size)\n",
    "    scores =  best_parameters(Xtrain, ytrain, Xtest, ytest, nb_trees, nb_features)\n",
    "    return scores"
   ]
  },
  {
   "cell_type": "markdown",
   "metadata": {},
   "source": [
    "### Parameters for random forest\n",
    "<ul>\n",
    "    <li><b>nb_trees</b>:the number of trees in the forest</li>\n",
    "    <li><b>nb_features</b>:the number of features retained in each tree</li>\n",
    "    <li><b>test_size</b>:the testing set size</li>\n",
    "</ul>"
   ]
  },
  {
   "cell_type": "code",
   "execution_count": 16,
   "metadata": {
    "collapsed": true
   },
   "outputs": [],
   "source": [
    "nb_trees = [25, 50, 75, 100, 150, 200, 300, 400, 500, 600, 700, 800, 900, 1000, 1500]\n",
    "nb_features = ['auto', 'log2', 'sqrt']\n",
    "test_size = 0.3"
   ]
  },
  {
   "cell_type": "code",
   "execution_count": 17,
   "metadata": {
    "collapsed": false
   },
   "outputs": [],
   "source": [
    "randomForest2015 =  classify_random_forest(dexample, ['ARR_DELAY'], 'ARR_DELAY', test_size=test_size, nb_trees=nb_trees, nb_features=nb_features)"
   ]
  },
  {
   "cell_type": "code",
   "execution_count": null,
   "metadata": {
    "collapsed": false
   },
   "outputs": [],
   "source": [
    "randomForest2015.head()"
   ]
  },
  {
   "cell_type": "code",
   "execution_count": 18,
   "metadata": {
    "collapsed": false
   },
   "outputs": [],
   "source": [
    "file_path = \"randomForest2015.csv\"\n",
    "randomForest2015.to_csv(path_or_buf= file_path)"
   ]
  },
  {
   "cell_type": "markdown",
   "metadata": {},
   "source": [
    "### Calculating the MSE value and Plot them"
   ]
  },
  {
   "cell_type": "code",
   "execution_count": 18,
   "metadata": {
    "collapsed": true
   },
   "outputs": [],
   "source": [
    "import matplotlib.pyplot as plt\n",
    "from matplotlib.figure import Figure"
   ]
  },
  {
   "cell_type": "code",
   "execution_count": 19,
   "metadata": {
    "collapsed": false
   },
   "outputs": [
    {
     "data": {
      "image/png": "[encoded data removed]",
      "text/plain": [
       "<matplotlib.figure.Figure at 0x195faac88>"
      ]
     },
     "metadata": {},
     "output_type": "display_data"
    }
   ],
   "source": [
    "# MSE on test set\n",
    "fig = plt.gcf()\n",
    "fig.set_size_inches(8, 5)\n",
    "\n",
    "for key, co in zip(['auto', 'sqrt', 'log2'], ['b', 'g', 'y']):\n",
    "    x = randomForest2015[randomForest2015.nb_features == key].nb_trees.values\n",
    "    y = randomForest2015[randomForest2015.nb_features == key].test_score.values\n",
    "    plt.plot(x, y, alpha = 0.5, c =co, label = key)\n",
    "\n",
    "plt.ylabel(\"Mean Square Error\")\n",
    "plt.xlabel(\"Number of features\")\n",
    "plt.title(\"MSE on test set by nb of features and nb of trees\")\n",
    "plt.legend(loc = 1)\n",
    "\n",
    "plt.show()"
   ]
  },
  {
   "cell_type": "code",
   "execution_count": 20,
   "metadata": {
    "collapsed": false
   },
   "outputs": [
    {
     "data": {
      "image/png": "[encoded data removed]",
      "text/plain": [
       "<matplotlib.figure.Figure at 0x1a47a2ac8>"
      ]
     },
     "metadata": {},
     "output_type": "display_data"
    }
   ],
   "source": [
    "# MSE on train set\n",
    "fig = plt.gcf()\n",
    "fig.set_size_inches(8, 5)\n",
    "\n",
    "for key, co in zip(['auto', 'sqrt', 'log2'], ['b', 'g', 'y']):\n",
    "    x = randomForest2015[randomForest2015.nb_features == key].nb_trees.values\n",
    "    y = randomForest2015[randomForest2015.nb_features == key].train_score.values\n",
    "    plt.plot(x, y, alpha = 0.5, c =co, label = key)\n",
    "\n",
    "plt.ylabel(\"Mean Square Error\")\n",
    "plt.xlabel(\"Number of features\")\n",
    "plt.title(\"MSE on train set by nb of features and nb of trees\")\n",
    "plt.legend(loc = 1)\n",
    "\n",
    "plt.show()"
   ]
  },
  {
   "cell_type": "code",
   "execution_count": 28,
   "metadata": {
    "collapsed": false
   },
   "outputs": [
    {
     "data": {
      "text/plain": [
       "Index(['ARR_DELAY', 'DISTANCE_NOR', 'LAT_NOR', 'LONG_NOR',\n",
       "       'CRS_ARR_TIME_COR_NOR', 'CRS_DEP_TIME_COR_NOR', 'AIRCRAFT_YEAR_COR_NOR',\n",
       "       'UNIQUE_CARRIER_AA', 'UNIQUE_CARRIER_B6', 'UNIQUE_CARRIER_NK',\n",
       "       'UNIQUE_CARRIER_OO', 'UNIQUE_CARRIER_UA', 'ORIGIN_EWR', 'ORIGIN_JFK',\n",
       "       'ORIGIN_LGA', 'DEST_ORD', 'AIRCRAFT_MFR_0',\n",
       "       'AIRCRAFT_MFR_AIRBUS                        ',\n",
       "       'AIRCRAFT_MFR_AIRBUS INDUSTRIE              ',\n",
       "       'AIRCRAFT_MFR_BEECH                         ',\n",
       "       'AIRCRAFT_MFR_BOEING                        ',\n",
       "       'AIRCRAFT_MFR_CESSNA                        ',\n",
       "       'AIRCRAFT_MFR_CIRRUS DESIGN CORP            ',\n",
       "       'AIRCRAFT_MFR_EMBRAER                       ',\n",
       "       'AIRCRAFT_MFR_EMBRAER S A                   ',\n",
       "       'AIRCRAFT_MFR_GULFSTREAM AEROSPACE          ',\n",
       "       'AIRCRAFT_MFR_KILDALL GARY                  ',\n",
       "       'AIRCRAFT_MFR_MCDONNELL DOUGLAS             ',\n",
       "       'AIRCRAFT_MFR_PIPER                         ',\n",
       "       'AIRCRAFT_MFR_ROBINSON HELICOPTER CO        ', 'MONTH_A', 'MONTH_D',\n",
       "       'MONTH_F', 'MONTH_J', 'MONTH_M', 'MONTH_N', 'MONTH_O', 'MONTH_S',\n",
       "       'DAY_F', 'DAY_M', 'DAY_S', 'DAY_T', 'DAY_W'],\n",
       "      dtype='object')"
      ]
     },
     "execution_count": 28,
     "metadata": {},
     "output_type": "execute_result"
    }
   ],
   "source": [
    "dexample.columns"
   ]
  },
  {
   "cell_type": "markdown",
   "metadata": {},
   "source": [
    "## 3.3 Random Forest Classification"
   ]
  },
  {
   "cell_type": "markdown",
   "metadata": {},
   "source": [
    "We will make prediction on the variable 'ARR_DEL15'. This variable takes the value 1 is the flight is more than 15 minutes late and 0 if not. "
   ]
  },
  {
   "cell_type": "code",
   "execution_count": 29,
   "metadata": {
    "collapsed": false
   },
   "outputs": [],
   "source": [
    "dexample['ARR_DELAY_COR'] = dexample.ARR_DELAY.map(lambda x: (x >= 15))\n",
    "dexample.drop('ARR_DELAY', axis = 1, inplace = True)\n",
    "file_path = \"dexample_class.csv\"\n",
    "dexample.to_csv(path_or_buf= file_path)\n",
    "dexample_class = dexample.copy()"
   ]
  },
  {
   "cell_type": "code",
   "execution_count": 30,
   "metadata": {
    "collapsed": false
   },
   "outputs": [
    {
     "data": {
      "text/html": [
       "<div>\n",
       "<table border=\"1\" class=\"dataframe\">\n",
       "  <thead>\n",
       "    <tr style=\"text-align: right;\">\n",
       "      <th></th>\n",
       "      <th>DISTANCE_NOR</th>\n",
       "      <th>LAT_NOR</th>\n",
       "      <th>LONG_NOR</th>\n",
       "      <th>CRS_ARR_TIME_COR_NOR</th>\n",
       "      <th>CRS_DEP_TIME_COR_NOR</th>\n",
       "      <th>AIRCRAFT_YEAR_COR_NOR</th>\n",
       "      <th>UNIQUE_CARRIER_AA</th>\n",
       "      <th>UNIQUE_CARRIER_B6</th>\n",
       "      <th>UNIQUE_CARRIER_NK</th>\n",
       "      <th>UNIQUE_CARRIER_OO</th>\n",
       "      <th>...</th>\n",
       "      <th>MONTH_M</th>\n",
       "      <th>MONTH_N</th>\n",
       "      <th>MONTH_O</th>\n",
       "      <th>MONTH_S</th>\n",
       "      <th>DAY_F</th>\n",
       "      <th>DAY_M</th>\n",
       "      <th>DAY_S</th>\n",
       "      <th>DAY_T</th>\n",
       "      <th>DAY_W</th>\n",
       "      <th>ARR_DELAY_COR</th>\n",
       "    </tr>\n",
       "  </thead>\n",
       "  <tbody>\n",
       "    <tr>\n",
       "      <th>4413</th>\n",
       "      <td>1.422153</td>\n",
       "      <td>-2.177843</td>\n",
       "      <td>1.06908</td>\n",
       "      <td>1.03016</td>\n",
       "      <td>-1.246569</td>\n",
       "      <td>-1.221363</td>\n",
       "      <td>1.0</td>\n",
       "      <td>0.0</td>\n",
       "      <td>0.0</td>\n",
       "      <td>0.0</td>\n",
       "      <td>...</td>\n",
       "      <td>0.0</td>\n",
       "      <td>0.0</td>\n",
       "      <td>0.0</td>\n",
       "      <td>0.0</td>\n",
       "      <td>0.0</td>\n",
       "      <td>0.0</td>\n",
       "      <td>0.0</td>\n",
       "      <td>1.0</td>\n",
       "      <td>0.0</td>\n",
       "      <td>False</td>\n",
       "    </tr>\n",
       "    <tr>\n",
       "      <th>4414</th>\n",
       "      <td>1.422153</td>\n",
       "      <td>-2.177843</td>\n",
       "      <td>1.06908</td>\n",
       "      <td>1.03016</td>\n",
       "      <td>-1.246569</td>\n",
       "      <td>-1.221363</td>\n",
       "      <td>1.0</td>\n",
       "      <td>0.0</td>\n",
       "      <td>0.0</td>\n",
       "      <td>0.0</td>\n",
       "      <td>...</td>\n",
       "      <td>0.0</td>\n",
       "      <td>0.0</td>\n",
       "      <td>0.0</td>\n",
       "      <td>0.0</td>\n",
       "      <td>1.0</td>\n",
       "      <td>0.0</td>\n",
       "      <td>0.0</td>\n",
       "      <td>0.0</td>\n",
       "      <td>0.0</td>\n",
       "      <td>False</td>\n",
       "    </tr>\n",
       "    <tr>\n",
       "      <th>4415</th>\n",
       "      <td>1.422153</td>\n",
       "      <td>-2.177843</td>\n",
       "      <td>1.06908</td>\n",
       "      <td>1.03016</td>\n",
       "      <td>-1.246569</td>\n",
       "      <td>-1.221363</td>\n",
       "      <td>1.0</td>\n",
       "      <td>0.0</td>\n",
       "      <td>0.0</td>\n",
       "      <td>0.0</td>\n",
       "      <td>...</td>\n",
       "      <td>0.0</td>\n",
       "      <td>0.0</td>\n",
       "      <td>0.0</td>\n",
       "      <td>0.0</td>\n",
       "      <td>0.0</td>\n",
       "      <td>0.0</td>\n",
       "      <td>1.0</td>\n",
       "      <td>0.0</td>\n",
       "      <td>0.0</td>\n",
       "      <td>False</td>\n",
       "    </tr>\n",
       "  </tbody>\n",
       "</table>\n",
       "<p>3 rows × 43 columns</p>\n",
       "</div>"
      ],
      "text/plain": [
       "      DISTANCE_NOR   LAT_NOR  LONG_NOR  CRS_ARR_TIME_COR_NOR  \\\n",
       "4413      1.422153 -2.177843   1.06908               1.03016   \n",
       "4414      1.422153 -2.177843   1.06908               1.03016   \n",
       "4415      1.422153 -2.177843   1.06908               1.03016   \n",
       "\n",
       "      CRS_DEP_TIME_COR_NOR  AIRCRAFT_YEAR_COR_NOR  UNIQUE_CARRIER_AA  \\\n",
       "4413             -1.246569              -1.221363                1.0   \n",
       "4414             -1.246569              -1.221363                1.0   \n",
       "4415             -1.246569              -1.221363                1.0   \n",
       "\n",
       "      UNIQUE_CARRIER_B6  UNIQUE_CARRIER_NK  UNIQUE_CARRIER_OO      ...        \\\n",
       "4413                0.0                0.0                0.0      ...         \n",
       "4414                0.0                0.0                0.0      ...         \n",
       "4415                0.0                0.0                0.0      ...         \n",
       "\n",
       "      MONTH_M  MONTH_N  MONTH_O  MONTH_S  DAY_F  DAY_M  DAY_S  DAY_T  DAY_W  \\\n",
       "4413      0.0      0.0      0.0      0.0    0.0    0.0    0.0    1.0    0.0   \n",
       "4414      0.0      0.0      0.0      0.0    1.0    0.0    0.0    0.0    0.0   \n",
       "4415      0.0      0.0      0.0      0.0    0.0    0.0    1.0    0.0    0.0   \n",
       "\n",
       "      ARR_DELAY_COR  \n",
       "4413          False  \n",
       "4414          False  \n",
       "4415          False  \n",
       "\n",
       "[3 rows x 43 columns]"
      ]
     },
     "execution_count": 30,
     "metadata": {},
     "output_type": "execute_result"
    }
   ],
   "source": [
    "dexample_class.head(3)"
   ]
  },
  {
   "cell_type": "markdown",
   "metadata": {},
   "source": [
    "The baseline classifier is the classifiers that assign repectively 1 or 0 to 'ARR_DEL15' for every flight."
   ]
  },
  {
   "cell_type": "code",
   "execution_count": 32,
   "metadata": {
    "collapsed": false
   },
   "outputs": [],
   "source": [
    "from __future__ import division\n",
    "\n",
    "def baseline_class(data, target):\n",
    "    score_baseline_1 = np.size(data[data[target] == 1][target].values) / np.size(data[target].values)\n",
    "    score_baseline_0 = np.size(data[data[target] == 0][target].values) / np.size(data[target].values)\n",
    "    \n",
    "    print (\"baseline classifier everyone to 0: \", int(score_baseline_0*100) , \"%\")\n",
    "    print (\"baseline classifier everyone to 1: \", int(score_baseline_1*100) , \"%\")\n",
    "   \n",
    "    return score_baseline_0, score_baseline_1"
   ]
  },
  {
   "cell_type": "code",
   "execution_count": 33,
   "metadata": {
    "collapsed": false
   },
   "outputs": [
    {
     "name": "stdout",
     "output_type": "stream",
     "text": [
      "baseline classifier everyone to 0:  78 %\n",
      "baseline classifier everyone to 1:  21 %\n"
     ]
    },
    {
     "data": {
      "text/plain": [
       "(0.7859912286277252, 0.21400877137227484)"
      ]
     },
     "execution_count": 33,
     "metadata": {},
     "output_type": "execute_result"
    }
   ],
   "source": [
    "baseline_class(dexample_class, 'ARR_DELAY_COR')"
   ]
  },
  {
   "cell_type": "code",
   "execution_count": 34,
   "metadata": {
    "collapsed": true
   },
   "outputs": [],
   "source": [
    "from sklearn.cross_validation import train_test_split\n",
    "from sklearn.ensemble import RandomForestClassifier"
   ]
  },
  {
   "cell_type": "code",
   "execution_count": 35,
   "metadata": {
    "collapsed": true
   },
   "outputs": [],
   "source": [
    "def split(data, list_drop, target, test_size):\n",
    "    #split the dataset into a training set and a test set\n",
    "    dtrain, dtest = train_test_split(data, test_size = 0.3)\n",
    "    \n",
    "    Xtrain = dtrain.drop(list_drop, axis=1).values\n",
    "    ytrain = dtrain[target].values\n",
    "    Xtest = dtest.drop(list_drop, axis=1).values\n",
    "    ytest = dtest[target].values\n",
    "    \n",
    "    return Xtrain, ytrain, Xtest, ytest"
   ]
  },
  {
   "cell_type": "code",
   "execution_count": 36,
   "metadata": {
    "collapsed": true
   },
   "outputs": [],
   "source": [
    "def score_random_forest_classifier(Xtrain, ytrain, Xtest, ytest, n_trees=10, max_features='auto'):\n",
    "    clf= RandomForestClassifier(n_estimators=n_trees, max_features= max_features)\n",
    "    clf.fit(Xtrain, ytrain)\n",
    "    \n",
    "    score_train = clf.score(Xtrain, ytrain)\n",
    "    score_test = clf.score(Xtest, ytest)\n",
    "    \n",
    "    return  score_train, score_test, clf"
   ]
  },
  {
   "cell_type": "code",
   "execution_count": 37,
   "metadata": {
    "collapsed": true
   },
   "outputs": [],
   "source": [
    "def best_parameters_classifier(Xtrain, ytrain, Xtest, ytest, nb_trees, nb_features):\n",
    "    score_tab = pd.DataFrame(columns=['nb_trees', 'nb_features', 'test_score', 'train_score', 'classifier'])\n",
    "    \n",
    "    # counter will increment the index in score_tab\n",
    "    counter = 0 \n",
    "\n",
    "    for n_estimators in nb_trees:\n",
    "        for max_features in nb_features:\n",
    "\n",
    "            score_train, score_test, classifier = \\\n",
    "            score_random_forest_classifier(Xtrain, ytrain, Xtest, ytest, n_trees=n_estimators, max_features=max_features) \n",
    "            score_tab.loc[counter] = [n_estimators, max_features, score_test, score_train, classifier]\n",
    "            counter += 1\n",
    "\n",
    "    return score_tab"
   ]
  },
  {
   "cell_type": "code",
   "execution_count": 38,
   "metadata": {
    "collapsed": true
   },
   "outputs": [],
   "source": [
    "def classify_random_forest_class(data, list_drop, target, test_size=0.4, nb_trees=[10], nb_features = ['auto']):\n",
    "    Xtrain, ytrain, Xtest, ytest = split(data, list_drop, target, test_size)\n",
    "    scores =  best_parameters_classifier(Xtrain, ytrain, Xtest, ytest, nb_trees, nb_features)\n",
    "    return scores"
   ]
  },
  {
   "cell_type": "code",
   "execution_count": 39,
   "metadata": {
    "collapsed": true
   },
   "outputs": [],
   "source": [
    "nb_trees = [25, 50, 75, 100, 150, 200, 300, 400, 500, 750, 1000, 2000, 5000]\n",
    "nb_features = ['sqrt', 'log2']\n",
    "test_size = 0.4"
   ]
  },
  {
   "cell_type": "code",
   "execution_count": 40,
   "metadata": {
    "collapsed": false
   },
   "outputs": [
    {
     "name": "stdout",
     "output_type": "stream",
     "text": [
      "CPU times: user 5min 20s, sys: 3min 42s, total: 9min 3s\n",
      "Wall time: 9min 14s\n"
     ]
    }
   ],
   "source": [
    "%%time\n",
    "randomForest2015_class =  classify_random_forest_class(dexample, ['ARR_DELAY_COR'], 'ARR_DELAY_COR', test_size=test_size, nb_trees=nb_trees, nb_features=nb_features)"
   ]
  },
  {
   "cell_type": "code",
   "execution_count": 41,
   "metadata": {
    "collapsed": false
   },
   "outputs": [
    {
     "data": {
      "text/html": [
       "<div>\n",
       "<table border=\"1\" class=\"dataframe\">\n",
       "  <thead>\n",
       "    <tr style=\"text-align: right;\">\n",
       "      <th></th>\n",
       "      <th>nb_trees</th>\n",
       "      <th>nb_features</th>\n",
       "      <th>test_score</th>\n",
       "      <th>train_score</th>\n",
       "      <th>classifier</th>\n",
       "    </tr>\n",
       "  </thead>\n",
       "  <tbody>\n",
       "    <tr>\n",
       "      <th>0</th>\n",
       "      <td>25.0</td>\n",
       "      <td>sqrt</td>\n",
       "      <td>0.745127</td>\n",
       "      <td>0.912104</td>\n",
       "      <td>(DecisionTreeClassifier(class_weight=None, cri...</td>\n",
       "    </tr>\n",
       "    <tr>\n",
       "      <th>1</th>\n",
       "      <td>25.0</td>\n",
       "      <td>log2</td>\n",
       "      <td>0.744915</td>\n",
       "      <td>0.912013</td>\n",
       "      <td>(DecisionTreeClassifier(class_weight=None, cri...</td>\n",
       "    </tr>\n",
       "    <tr>\n",
       "      <th>2</th>\n",
       "      <td>50.0</td>\n",
       "      <td>sqrt</td>\n",
       "      <td>0.750847</td>\n",
       "      <td>0.913920</td>\n",
       "      <td>(DecisionTreeClassifier(class_weight=None, cri...</td>\n",
       "    </tr>\n",
       "    <tr>\n",
       "      <th>3</th>\n",
       "      <td>50.0</td>\n",
       "      <td>log2</td>\n",
       "      <td>0.746398</td>\n",
       "      <td>0.913920</td>\n",
       "      <td>(DecisionTreeClassifier(class_weight=None, cri...</td>\n",
       "    </tr>\n",
       "    <tr>\n",
       "      <th>4</th>\n",
       "      <td>75.0</td>\n",
       "      <td>sqrt</td>\n",
       "      <td>0.749364</td>\n",
       "      <td>0.914192</td>\n",
       "      <td>(DecisionTreeClassifier(class_weight=None, cri...</td>\n",
       "    </tr>\n",
       "  </tbody>\n",
       "</table>\n",
       "</div>"
      ],
      "text/plain": [
       "   nb_trees nb_features  test_score  train_score  \\\n",
       "0      25.0        sqrt    0.745127     0.912104   \n",
       "1      25.0        log2    0.744915     0.912013   \n",
       "2      50.0        sqrt    0.750847     0.913920   \n",
       "3      50.0        log2    0.746398     0.913920   \n",
       "4      75.0        sqrt    0.749364     0.914192   \n",
       "\n",
       "                                          classifier  \n",
       "0  (DecisionTreeClassifier(class_weight=None, cri...  \n",
       "1  (DecisionTreeClassifier(class_weight=None, cri...  \n",
       "2  (DecisionTreeClassifier(class_weight=None, cri...  \n",
       "3  (DecisionTreeClassifier(class_weight=None, cri...  \n",
       "4  (DecisionTreeClassifier(class_weight=None, cri...  "
      ]
     },
     "execution_count": 41,
     "metadata": {},
     "output_type": "execute_result"
    }
   ],
   "source": [
    "randomForest2015_class.head()"
   ]
  },
  {
   "cell_type": "code",
   "execution_count": 42,
   "metadata": {
    "collapsed": true
   },
   "outputs": [],
   "source": [
    "# save file to /data/ folder\n",
    "file_path = \"randomForest2015_class.csv\"\n",
    "randomForest2015_class.to_csv(path_or_buf= file_path)"
   ]
  },
  {
   "cell_type": "markdown",
   "metadata": {},
   "source": [
    "Now, we get the importance coefficients which can help use to choose the feature for later linear regression, since our random forest model can be regard as a feature engineering."
   ]
  },
  {
   "cell_type": "code",
   "execution_count": 43,
   "metadata": {
    "collapsed": false
   },
   "outputs": [
    {
     "name": "stdout",
     "output_type": "stream",
     "text": [
      "CRS_ARR_TIME_COR_NOR                           0.255373\n",
      "AIRCRAFT_YEAR_COR_NOR                          0.231586\n",
      "CRS_DEP_TIME_COR_NOR                           0.230633\n",
      "DAY_S                                          0.027144\n",
      "DAY_T                                          0.026648\n",
      "DAY_F                                          0.025106\n",
      "DAY_M                                          0.020883\n",
      "DAY_W                                          0.019330\n",
      "MONTH_J                                        0.018209\n",
      "MONTH_A                                        0.015323\n",
      "MONTH_M                                        0.014296\n",
      "MONTH_O                                        0.011210\n",
      "MONTH_F                                        0.010742\n",
      "MONTH_D                                        0.010434\n",
      "AIRCRAFT_MFR_AIRBUS INDUSTRIE                  0.009604\n",
      "MONTH_S                                        0.009564\n",
      "MONTH_N                                        0.009260\n",
      "AIRCRAFT_MFR_BOEING                            0.008221\n",
      "AIRCRAFT_MFR_AIRBUS                            0.007248\n",
      "AIRCRAFT_MFR_0                                 0.005415\n",
      "UNIQUE_CARRIER_UA                              0.004403\n",
      "UNIQUE_CARRIER_AA                              0.003986\n",
      "UNIQUE_CARRIER_NK                              0.003371\n",
      "LAT_NOR                                        0.003262\n",
      "LONG_NOR                                       0.002843\n",
      "DISTANCE_NOR                                   0.002785\n",
      "ORIGIN_LGA                                     0.002677\n",
      "ORIGIN_EWR                                     0.002025\n",
      "AIRCRAFT_MFR_EMBRAER                           0.001797\n",
      "AIRCRAFT_MFR_MCDONNELL DOUGLAS                 0.001757\n",
      "ORIGIN_JFK                                     0.001257\n",
      "UNIQUE_CARRIER_B6                              0.001187\n",
      "UNIQUE_CARRIER_OO                              0.000621\n",
      "AIRCRAFT_MFR_EMBRAER S A                       0.000575\n",
      "AIRCRAFT_MFR_CESSNA                            0.000413\n",
      "AIRCRAFT_MFR_CIRRUS DESIGN CORP                0.000259\n",
      "AIRCRAFT_MFR_ROBINSON HELICOPTER CO            0.000177\n",
      "AIRCRAFT_MFR_KILDALL GARY                      0.000174\n",
      "AIRCRAFT_MFR_BEECH                             0.000132\n",
      "AIRCRAFT_MFR_PIPER                             0.000063\n",
      "AIRCRAFT_MFR_GULFSTREAM AEROSPACE              0.000008\n",
      "DEST_ORD                                       0.000000\n",
      "dtype: float64\n"
     ]
    },
    {
     "name": "stderr",
     "output_type": "stream",
     "text": [
      "/Applications/Anaconda/anaconda/lib/python3.5/site-packages/ipykernel/__main__.py:4: FutureWarning: sort is deprecated, use sort_values(inplace=True) for INPLACE sorting\n"
     ]
    }
   ],
   "source": [
    "features = dexample_class.drop('ARR_DELAY_COR', axis =1).columns\n",
    "coeffs_class = randomForest2015_class.classifier[len(randomForest2015_class)-1].feature_importances_\n",
    "u = pd.Series(coeffs_class, index=features)\n",
    "u.sort(inplace=True, ascending=False)\n",
    "print (u)"
   ]
  },
  {
   "cell_type": "code",
   "execution_count": 44,
   "metadata": {
    "collapsed": false
   },
   "outputs": [
    {
     "data": {
      "image/png": "[encoded data removed]",
      "text/plain": [
       "<matplotlib.figure.Figure at 0x4af7c8320>"
      ]
     },
     "metadata": {},
     "output_type": "display_data"
    }
   ],
   "source": [
    "# Score on test set\n",
    "fig = plt.gcf()\n",
    "fig.set_size_inches(8, 5)\n",
    "\n",
    "for key, co in zip(['sqrt', 'log2'], ['b', 'g']):\n",
    "    x = randomForest2015_class[randomForest2015_class.nb_features == key].nb_trees.values\n",
    "    y = randomForest2015_class[randomForest2015_class.nb_features == key].test_score.values\n",
    "    plt.plot(x, y, alpha = 0.5, c =co, label = key)\n",
    "\n",
    "plt.ylabel(\"Score\")\n",
    "plt.xlabel(\"Number of features\")\n",
    "plt.title(\"Score on test set by nb of features and nb of trees\")\n",
    "plt.legend(loc = 4)\n",
    "\n",
    "plt.show()"
   ]
  },
  {
   "cell_type": "code",
   "execution_count": 54,
   "metadata": {
    "collapsed": false
   },
   "outputs": [
    {
     "data": {
      "image/png": "[encoded data removed]",
      "text/plain": [
       "<matplotlib.figure.Figure at 0x63d7c9898>"
      ]
     },
     "metadata": {},
     "output_type": "display_data"
    }
   ],
   "source": [
    "# Score on train set\n",
    "fig = plt.gcf()\n",
    "fig.set_size_inches(8, 5)\n",
    "\n",
    "for key, co in zip(['sqrt', 'log2'], ['b', 'g']):\n",
    "    x = randomForest2015_class[randomForest2015_class.nb_features == key].nb_trees.values\n",
    "    y = randomForest2015_class[randomForest2015_class.nb_features == key].train_score.values\n",
    "    plt.plot(x, y, alpha = 0.5, c =co, label = key)\n",
    "\n",
    "plt.ylim(0.85, 0.95)\n",
    "plt.ylabel(\"Score\")\n",
    "plt.xlabel(\"Number of features\")\n",
    "plt.title(\"Score on train set by nb of features and nb of trees\")\n",
    "plt.legend(loc = 4)\n",
    "\n",
    "plt.show()"
   ]
  }
 ],
 "metadata": {
  "anaconda-cloud": {},
  "kernelspec": {
   "display_name": "Python [conda root]",
   "language": "python",
   "name": "conda-root-py"
  },
  "language_info": {
   "codemirror_mode": {
    "name": "ipython",
    "version": 3
   },
   "file_extension": ".py",
   "mimetype": "text/x-python",
   "name": "python",
   "nbconvert_exporter": "python",
   "pygments_lexer": "ipython3",
   "version": "3.5.2"
  }
 },
 "nbformat": 4,
 "nbformat_minor": 0
}
