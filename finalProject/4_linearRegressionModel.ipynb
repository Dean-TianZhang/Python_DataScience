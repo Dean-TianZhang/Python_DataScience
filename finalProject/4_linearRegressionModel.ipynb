{
 "cells": [
  {
   "cell_type": "markdown",
   "metadata": {},
   "source": [
    "# 4 Linear Regression Model"
   ]
  },
  {
   "cell_type": "markdown",
   "metadata": {},
   "source": [
    "## 4.1 Data Preprocessing"
   ]
  },
  {
   "cell_type": "code",
   "execution_count": 1,
   "metadata": {
    "collapsed": false
   },
   "outputs": [],
   "source": [
    "%matplotlib inline\n",
    "# import required modules for prediction tasks\n",
    "import numpy as np\n",
    "import pandas as pd\n",
    "import math\n",
    "import random\n",
    "import requests\n",
    "import zipfile\n",
    "from io import StringIO\n",
    "import re\n",
    "import json\n",
    "import os\n",
    "import matplotlib\n",
    "import matplotlib.pyplot as plt\n",
    "\n",
    "# sklearn functions used for the linear regression model\n",
    "from sklearn.preprocessing import OneHotEncoder\n",
    "from scipy import sparse\n",
    "from sklearn.cross_validation import train_test_split\n",
    "from sklearn.preprocessing import StandardScaler\n",
    "from sklearn.linear_model import SGDRegressor\n",
    "from sklearn.grid_search import GridSearchCV\n",
    "from sklearn.metrics import mean_absolute_error"
   ]
  },
  {
   "cell_type": "markdown",
   "metadata": {},
   "source": [
    "First, let us again establish a baseline which has to be beaten by our model. To get a feeling for a good baseline we pick flights from from Boston(all airports) to Los Angles(all airports). And collecting dataset from 2011 to 2015. This data set is larger than the dataset used in the former random forest regression."
   ]
  },
  {
   "cell_type": "code",
   "execution_count": 2,
   "metadata": {
    "collapsed": false
   },
   "outputs": [
    {
     "name": "stdout",
     "output_type": "stream",
     "text": [
      "loading data...\n"
     ]
    }
   ],
   "source": [
    "print('loading data...')\n",
    "bigdf = pd.read_csv('Big10FlightTable.csv')\n",
    "years = ['2011', '2012', '2013', '2014', '2015']"
   ]
  },
  {
   "cell_type": "code",
   "execution_count": 4,
   "metadata": {
    "collapsed": false
   },
   "outputs": [
    {
     "data": {
      "text/plain": [
       "Index(['Unnamed: 0', 'level_0', 'Unnamed: 0.1', 'TailNum', 'DayofMonth',\n",
       "       'Cancelled', 'ArrTime', 'Year', 'Month', 'OriginCityName', 'FlightNum',\n",
       "       'DayOfWeek', 'Origin', 'OriginWac', 'AirlineID', 'Quarter', 'Diverted',\n",
       "       'ArrDelayMinutes', 'DepTime', 'UniqueCarrier', 'Distance', 'ArrDelay',\n",
       "       'OriginStateName', 'DestCityName', 'Dest', 'ArrDel15', 'AIRCRAFT_YEAR',\n",
       "       'AIRCRAFT_MFR', 'AIRCRAFT_AGE'],\n",
       "      dtype='object')"
      ]
     },
     "execution_count": 4,
     "metadata": {},
     "output_type": "execute_result"
    }
   ],
   "source": [
    "bigdf.columns"
   ]
  },
  {
   "cell_type": "code",
   "execution_count": 5,
   "metadata": {
    "collapsed": false
   },
   "outputs": [],
   "source": [
    "# specify here which cities should be investigated\n",
    "city_from = 'Boston, MA'\n",
    "city_to = 'Los Angeles, CA'\n",
    "\n",
    "# filter for cities\n",
    "bigdf = bigdf[(bigdf.OriginCityName == city_from) & (bigdf.DestCityName == city_to)]"
   ]
  },
  {
   "cell_type": "markdown",
   "metadata": {},
   "source": [
    "We want to departure at 12.18. We want to use historical data to make a flight prediction"
   ]
  },
  {
   "cell_type": "code",
   "execution_count": 6,
   "metadata": {
    "collapsed": false
   },
   "outputs": [],
   "source": [
    "query_day = 18\n",
    "query_month = 12\n",
    "\n",
    "# how many flights do exist in all years?\n",
    "flights = []\n",
    "flightvalues = []\n",
    "for y in years:\n",
    "    query = list(bigdf[(bigdf.Year == int(y)) & (bigdf.Month == query_month) & (bigdf.DayofMonth == query_day)].FlightNum.astype(int).unique())\n",
    "    flights.append(query)\n",
    "    flightvalues += query\n",
    "    \n",
    "# build a matrix\n",
    "data_matrix = np.zeros((len(flightvalues), len(years)))\n",
    "# build dict\n",
    "flightdict = dict(zip(flightvalues, np.arange(0, len(flightvalues))))\n",
    "\n",
    "# fill datamatrix\n",
    "for i in range(len(years)):\n",
    "    for j in flights[i]:\n",
    "        data_matrix[flightdict[j], i] = 1."
   ]
  },
  {
   "cell_type": "code",
   "execution_count": 10,
   "metadata": {
    "collapsed": false
   },
   "outputs": [
    {
     "data": {
      "text/plain": [
       "<matplotlib.image.AxesImage at 0x23d09cf60>"
      ]
     },
     "execution_count": 10,
     "metadata": {},
     "output_type": "execute_result"
    },
    {
     "data": {
      "image/png": "[encoded data removed]",
      "text/plain": [
       "<matplotlib.figure.Figure at 0x17751f710>"
      ]
     },
     "metadata": {},
     "output_type": "display_data"
    }
   ],
   "source": [
    "# plot matrix\n",
    "plt.figure(figsize=(10, 6))\n",
    "plt.imshow(data_matrix, extent=[0,data_matrix.shape[0],0,data_matrix.shape[1] * 5], interpolation='none', cmap='gray')"
   ]
  },
  {
   "cell_type": "markdown",
   "metadata": {},
   "source": [
    "As seem in the graph above, the comparison by features for individual flights is not really possible. It seems as if airlines change their flight numbers on a yearly basis"
   ]
  },
  {
   "cell_type": "code",
   "execution_count": 98,
   "metadata": {
    "collapsed": false
   },
   "outputs": [
    {
     "data": {
      "text/html": [
       "<div>\n",
       "<table border=\"1\" class=\"dataframe\">\n",
       "  <thead>\n",
       "    <tr style=\"text-align: right;\">\n",
       "      <th></th>\n",
       "      <th>Unnamed: 0</th>\n",
       "      <th>level_0</th>\n",
       "      <th>Unnamed: 0.1</th>\n",
       "      <th>TailNum</th>\n",
       "      <th>DayofMonth</th>\n",
       "      <th>Cancelled</th>\n",
       "      <th>ArrTime</th>\n",
       "      <th>Year</th>\n",
       "      <th>Month</th>\n",
       "      <th>OriginCityName</th>\n",
       "      <th>...</th>\n",
       "      <th>ArrDelay</th>\n",
       "      <th>OriginStateName</th>\n",
       "      <th>DestCityName</th>\n",
       "      <th>Dest</th>\n",
       "      <th>ArrDel15</th>\n",
       "      <th>AIRCRAFT_YEAR</th>\n",
       "      <th>AIRCRAFT_MFR</th>\n",
       "      <th>AIRCRAFT_AGE</th>\n",
       "      <th>HOUR_OF_ARR</th>\n",
       "      <th>HOUR_OF_DEP</th>\n",
       "    </tr>\n",
       "  </thead>\n",
       "  <tbody>\n",
       "    <tr>\n",
       "      <th>3866214</th>\n",
       "      <td>3866214</td>\n",
       "      <td>3866214</td>\n",
       "      <td>3866214</td>\n",
       "      <td>537JB</td>\n",
       "      <td>18</td>\n",
       "      <td>0.0</td>\n",
       "      <td>1131.0</td>\n",
       "      <td>2011</td>\n",
       "      <td>12</td>\n",
       "      <td>Boston, MA</td>\n",
       "      <td>...</td>\n",
       "      <td>-24.0</td>\n",
       "      <td>Massachusetts</td>\n",
       "      <td>Los Angeles, CA</td>\n",
       "      <td>LAX</td>\n",
       "      <td>0.0</td>\n",
       "      <td>2012</td>\n",
       "      <td>SMALL</td>\n",
       "      <td>-1</td>\n",
       "      <td>113</td>\n",
       "      <td>81</td>\n",
       "    </tr>\n",
       "    <tr>\n",
       "      <th>3866215</th>\n",
       "      <td>3866215</td>\n",
       "      <td>3866215</td>\n",
       "      <td>3866215</td>\n",
       "      <td>712JB</td>\n",
       "      <td>18</td>\n",
       "      <td>0.0</td>\n",
       "      <td>2245.0</td>\n",
       "      <td>2011</td>\n",
       "      <td>12</td>\n",
       "      <td>Boston, MA</td>\n",
       "      <td>...</td>\n",
       "      <td>-2.0</td>\n",
       "      <td>Massachusetts</td>\n",
       "      <td>Los Angeles, CA</td>\n",
       "      <td>LAX</td>\n",
       "      <td>0.0</td>\n",
       "      <td>2008</td>\n",
       "      <td>AIRBUS</td>\n",
       "      <td>3</td>\n",
       "      <td>224</td>\n",
       "      <td>191</td>\n",
       "    </tr>\n",
       "    <tr>\n",
       "      <th>7902808</th>\n",
       "      <td>7902808</td>\n",
       "      <td>3834359</td>\n",
       "      <td>3834359</td>\n",
       "      <td>805JB</td>\n",
       "      <td>18</td>\n",
       "      <td>0.0</td>\n",
       "      <td>1149.0</td>\n",
       "      <td>2012</td>\n",
       "      <td>12</td>\n",
       "      <td>Boston, MA</td>\n",
       "      <td>...</td>\n",
       "      <td>11.0</td>\n",
       "      <td>Massachusetts</td>\n",
       "      <td>Los Angeles, CA</td>\n",
       "      <td>LAX</td>\n",
       "      <td>0.0</td>\n",
       "      <td>2012</td>\n",
       "      <td>AIRBUS</td>\n",
       "      <td>0</td>\n",
       "      <td>114</td>\n",
       "      <td>80</td>\n",
       "    </tr>\n",
       "    <tr>\n",
       "      <th>7902809</th>\n",
       "      <td>7902809</td>\n",
       "      <td>3834360</td>\n",
       "      <td>3834360</td>\n",
       "      <td>784JB</td>\n",
       "      <td>18</td>\n",
       "      <td>0.0</td>\n",
       "      <td>2246.0</td>\n",
       "      <td>2012</td>\n",
       "      <td>12</td>\n",
       "      <td>Boston, MA</td>\n",
       "      <td>...</td>\n",
       "      <td>11.0</td>\n",
       "      <td>Massachusetts</td>\n",
       "      <td>Los Angeles, CA</td>\n",
       "      <td>LAX</td>\n",
       "      <td>0.0</td>\n",
       "      <td>2011</td>\n",
       "      <td>AIRBUS</td>\n",
       "      <td>1</td>\n",
       "      <td>224</td>\n",
       "      <td>185</td>\n",
       "    </tr>\n",
       "    <tr>\n",
       "      <th>8097491</th>\n",
       "      <td>8097491</td>\n",
       "      <td>4029042</td>\n",
       "      <td>4029042</td>\n",
       "      <td>587UA</td>\n",
       "      <td>18</td>\n",
       "      <td>0.0</td>\n",
       "      <td>2158.0</td>\n",
       "      <td>2012</td>\n",
       "      <td>12</td>\n",
       "      <td>Boston, MA</td>\n",
       "      <td>...</td>\n",
       "      <td>38.0</td>\n",
       "      <td>Massachusetts</td>\n",
       "      <td>Los Angeles, CA</td>\n",
       "      <td>LAX</td>\n",
       "      <td>1.0</td>\n",
       "      <td>1993</td>\n",
       "      <td>BOEING</td>\n",
       "      <td>19</td>\n",
       "      <td>215</td>\n",
       "      <td>175</td>\n",
       "    </tr>\n",
       "  </tbody>\n",
       "</table>\n",
       "<p>5 rows × 31 columns</p>\n",
       "</div>"
      ],
      "text/plain": [
       "         Unnamed: 0  level_0  Unnamed: 0.1 TailNum  DayofMonth  Cancelled  \\\n",
       "3866214     3866214  3866214       3866214   537JB          18        0.0   \n",
       "3866215     3866215  3866215       3866215   712JB          18        0.0   \n",
       "7902808     7902808  3834359       3834359   805JB          18        0.0   \n",
       "7902809     7902809  3834360       3834360   784JB          18        0.0   \n",
       "8097491     8097491  4029042       4029042   587UA          18        0.0   \n",
       "\n",
       "         ArrTime  Year  Month OriginCityName     ...      ArrDelay  \\\n",
       "3866214   1131.0  2011     12     Boston, MA     ...         -24.0   \n",
       "3866215   2245.0  2011     12     Boston, MA     ...          -2.0   \n",
       "7902808   1149.0  2012     12     Boston, MA     ...          11.0   \n",
       "7902809   2246.0  2012     12     Boston, MA     ...          11.0   \n",
       "8097491   2158.0  2012     12     Boston, MA     ...          38.0   \n",
       "\n",
       "         OriginStateName     DestCityName  Dest  ArrDel15  AIRCRAFT_YEAR  \\\n",
       "3866214    Massachusetts  Los Angeles, CA   LAX       0.0           2012   \n",
       "3866215    Massachusetts  Los Angeles, CA   LAX       0.0           2008   \n",
       "7902808    Massachusetts  Los Angeles, CA   LAX       0.0           2012   \n",
       "7902809    Massachusetts  Los Angeles, CA   LAX       0.0           2011   \n",
       "8097491    Massachusetts  Los Angeles, CA   LAX       1.0           1993   \n",
       "\n",
       "         AIRCRAFT_MFR  AIRCRAFT_AGE  HOUR_OF_ARR HOUR_OF_DEP  \n",
       "3866214         SMALL            -1          113          81  \n",
       "3866215        AIRBUS             3          224         191  \n",
       "7902808        AIRBUS             0          114          80  \n",
       "7902809        AIRBUS             1          224         185  \n",
       "8097491        BOEING            19          215         175  \n",
       "\n",
       "[5 rows x 31 columns]"
      ]
     },
     "execution_count": 98,
     "metadata": {},
     "output_type": "execute_result"
    }
   ],
   "source": [
    "dffordate = bigdf[bigdf.Month == query_month]\n",
    "dffordate = dffordate[dffordate.DayofMonth == query_day]\n",
    "dffordate.head()"
   ]
  },
  {
   "cell_type": "code",
   "execution_count": 32,
   "metadata": {
    "collapsed": false
   },
   "outputs": [
    {
     "data": {
      "text/plain": [
       "Index(['Unnamed: 0', 'level_0', 'Unnamed: 0.1', 'TailNum', 'DayofMonth',\n",
       "       'Cancelled', 'ArrTime', 'Year', 'Month', 'OriginCityName', 'FlightNum',\n",
       "       'DayOfWeek', 'Origin', 'OriginWac', 'AirlineID', 'Quarter', 'Diverted',\n",
       "       'ArrDelayMinutes', 'DepTime', 'UniqueCarrier', 'Distance', 'ArrDelay',\n",
       "       'OriginStateName', 'DestCityName', 'Dest', 'ArrDel15', 'AIRCRAFT_YEAR',\n",
       "       'AIRCRAFT_MFR', 'AIRCRAFT_AGE'],\n",
       "      dtype='object')"
      ]
     },
     "execution_count": 32,
     "metadata": {},
     "output_type": "execute_result"
    }
   ],
   "source": [
    "dffordate.columns"
   ]
  },
  {
   "cell_type": "code",
   "execution_count": 99,
   "metadata": {
    "collapsed": true
   },
   "outputs": [],
   "source": [
    "def predict_base_model(X):\n",
    "    return np.array([dffordate.ArrDelay.mean()]*X.shape[0])"
   ]
  },
  {
   "cell_type": "markdown",
   "metadata": {},
   "source": [
    "To test the quality of this model, we use the last year as test set and the previous as train data. The idea is, that we are always interested in predicting the next year somehow. Thus, if the match for 2015 is good, we expect it to be the same for 2016."
   ]
  },
  {
   "cell_type": "code",
   "execution_count": 127,
   "metadata": {
    "collapsed": true
   },
   "outputs": [],
   "source": [
    "# build test/train set\n",
    "df_train = dffordate[dffordate.Year != int(years[-1])]\n",
    "df_test = dffordate[dffordate.Year == int(years[-1])]\n",
    "\n",
    "y_train = df_train.ArrDelay\n",
    "X_train = y_train # here dummy\n",
    "y_test = df_test.ArrDelay\n",
    "X_test = y_test # here dummy"
   ]
  },
  {
   "cell_type": "markdown",
   "metadata": {},
   "source": [
    "In our baseline, it seems that, at average, the flight will delay for about 11.78 mins"
   ]
  },
  {
   "cell_type": "code",
   "execution_count": 156,
   "metadata": {
    "collapsed": false
   },
   "outputs": [
    {
     "data": {
      "text/plain": [
       "11.782608695652174"
      ]
     },
     "execution_count": 156,
     "metadata": {},
     "output_type": "execute_result"
    }
   ],
   "source": [
    "y_pred = predict_base_model(X_test)\n",
    "y_pred[0]"
   ]
  },
  {
   "cell_type": "markdown",
   "metadata": {},
   "source": [
    "### The RMSE value of baseline"
   ]
  },
  {
   "cell_type": "markdown",
   "metadata": {},
   "source": [
    "We can use the root mean squared error as one measurement to evaluate the performance of regression model. In our case, the RMSE value should decrease under 36.71."
   ]
  },
  {
   "cell_type": "code",
   "execution_count": 157,
   "metadata": {
    "collapsed": false
   },
   "outputs": [
    {
     "data": {
      "text/plain": [
       "35.261700993551159"
      ]
     },
     "execution_count": 157,
     "metadata": {},
     "output_type": "execute_result"
    }
   ],
   "source": [
    "def rmse(y, y_pred):\n",
    "    return np.sqrt(((y - y_pred)**2).mean())\n",
    "\n",
    "def mas(y, y_pred):\n",
    "    return (np.abs(y - y_pred)).mean()\n",
    "\n",
    "MAS_base = mas(y_test, y_pred)\n",
    "RMSE_base = rmse(y_test, y_pred)\n",
    "RMSE_base"
   ]
  },
  {
   "cell_type": "markdown",
   "metadata": {},
   "source": [
    "## 4.2 Building Linear Regression Model"
   ]
  },
  {
   "cell_type": "markdown",
   "metadata": {},
   "source": [
    "We continue to use the dataset of 2015 to build the prediction model. Since the whole dataset from 2011 to 2015 is extremly huge, (every year has more than 700M records). And also the dataset is limited to the specific dest and origin location (from Boston to Los Angeles)"
   ]
  },
  {
   "cell_type": "code",
   "execution_count": 130,
   "metadata": {
    "collapsed": false
   },
   "outputs": [
    {
     "name": "stdout",
     "output_type": "stream",
     "text": [
      "CPU times: user 1.49 s, sys: 78.2 ms, total: 1.57 s\n",
      "Wall time: 1.64 s\n"
     ]
    }
   ],
   "source": [
    "%%time\n",
    "bigdf['HOUR_OF_ARR'] = 0\n",
    "bigdf['HOUR_OF_DEP'] = 0\n",
    "\n",
    "for index, row in bigdf.iterrows():\n",
    "    bigdf.set_value(index, 'HOUR_OF_ARR', int(row['ArrTime']) / 10)\n",
    "    bigdf.set_value(index, 'HOUR_OF_DEP', int(row['DepTime']) / 10)"
   ]
  },
  {
   "cell_type": "code",
   "execution_count": 131,
   "metadata": {
    "collapsed": true
   },
   "outputs": [],
   "source": [
    "# split data into numerical and categorical features\n",
    "numericalFeat = bigdf[['Distance', 'AIRCRAFT_AGE']].astype('float') \n",
    "categoricalFeat = bigdf[['Month', 'DayofMonth', 'Origin', 'Dest', \\\n",
    "                         'HOUR_OF_ARR', 'HOUR_OF_DEP', 'UniqueCarrier', \\\n",
    "                         'DayOfWeek', 'AIRCRAFT_MFR']] "
   ]
  },
  {
   "cell_type": "markdown",
   "metadata": {},
   "source": [
    "### Processing Categorical Data"
   ]
  },
  {
   "cell_type": "markdown",
   "metadata": {},
   "source": [
    "This step runs extremly slow. Transfering other type of data to integer formate, which can be use in our later regression model."
   ]
  },
  {
   "cell_type": "code",
   "execution_count": 132,
   "metadata": {
    "collapsed": false
   },
   "outputs": [
    {
     "name": "stderr",
     "output_type": "stream",
     "text": [
      "/Applications/Anaconda/anaconda/lib/python3.5/site-packages/ipykernel/__main__.py:6: SettingWithCopyWarning: \n",
      "A value is trying to be set on a copy of a slice from a DataFrame.\n",
      "Try using .loc[row_indexer,col_indexer] = value instead\n",
      "\n",
      "See the caveats in the documentation: http://pandas.pydata.org/pandas-docs/stable/indexing.html#indexing-view-versus-copy\n",
      "/Applications/Anaconda/anaconda/lib/python3.5/site-packages/pandas/core/indexing.py:465: SettingWithCopyWarning: \n",
      "A value is trying to be set on a copy of a slice from a DataFrame.\n",
      "Try using .loc[row_indexer,col_indexer] = value instead\n",
      "\n",
      "See the caveats in the documentation: http://pandas.pydata.org/pandas-docs/stable/indexing.html#indexing-view-versus-copy\n",
      "  self.obj[item] = s\n"
     ]
    },
    {
     "name": "stdout",
     "output_type": "stream",
     "text": [
      "CPU times: user 6.19 s, sys: 150 ms, total: 6.34 s\n",
      "Wall time: 6.54 s\n"
     ]
    }
   ],
   "source": [
    "%%time\n",
    "# for the next step, all features need to be encoded as integers --> create lookup Tables!\n",
    "def transformToID(df, col):\n",
    "    vals = df[col].unique()\n",
    "    LookupTable = dict(zip(vals, np.arange(len(vals))))\n",
    "    for key in LookupTable.keys():\n",
    "        df[df[col] == key] = LookupTable[key]\n",
    "    return (LookupTable, df)\n",
    "\n",
    "mfrDict, categoricalFeat = transformToID(categoricalFeat, 'AIRCRAFT_MFR')\n",
    "originDict, categoricalFeat = transformToID(categoricalFeat, 'Origin')\n",
    "destDict, categoricalFeat = transformToID(categoricalFeat, 'Dest')\n",
    "carrierDict, categoricalFeat = transformToID(categoricalFeat, 'UniqueCarrier')"
   ]
  },
  {
   "cell_type": "markdown",
   "metadata": {},
   "source": [
    "### OLS Regression"
   ]
  },
  {
   "cell_type": "code",
   "execution_count": 133,
   "metadata": {
    "collapsed": true
   },
   "outputs": [],
   "source": [
    "import sklearn\n",
    "from sklearn import linear_model\n",
    "from sklearn.preprocessing import OneHotEncoder\n",
    "from scipy import sparse\n",
    "from sklearn.cross_validation import train_test_split\n",
    "from sklearn.preprocessing import StandardScaler\n",
    "from sklearn.linear_model import SGDRegressor\n",
    "from sklearn.grid_search import GridSearchCV\n",
    "from sklearn.metrics import mean_squared_error\n",
    "import statsmodels.api as sm"
   ]
  },
  {
   "cell_type": "code",
   "execution_count": 134,
   "metadata": {
    "collapsed": false
   },
   "outputs": [
    {
     "name": "stdout",
     "output_type": "stream",
     "text": [
      "CPU times: user 22.6 ms, sys: 7.56 ms, total: 30.1 ms\n",
      "Wall time: 38.3 ms\n"
     ]
    }
   ],
   "source": [
    "%%time \n",
    "encoder = OneHotEncoder() \n",
    "categoricals_encoded = encoder.fit_transform(categoricalFeat)"
   ]
  },
  {
   "cell_type": "markdown",
   "metadata": {},
   "source": [
    "Combining the categorical and numberial data together, and then:\n",
    "<ul>\n",
    "    <li>Data split</li>\n",
    "    <li>Data normalization</li>\n",
    "    <li>The cross validation among test and train</li>\n",
    "</ul>"
   ]
  },
  {
   "cell_type": "code",
   "execution_count": 135,
   "metadata": {
    "collapsed": true
   },
   "outputs": [],
   "source": [
    "numericals_sparse = sparse.csr_matrix(numericalFeat)\n",
    "# get data matrix & response variable\n",
    "X_all = sparse.hstack((numericals_sparse, categoricals_encoded))\n",
    "y_all = bigdf['ArrDelay'].values"
   ]
  },
  {
   "cell_type": "code",
   "execution_count": 147,
   "metadata": {
    "collapsed": false
   },
   "outputs": [
    {
     "name": "stderr",
     "output_type": "stream",
     "text": [
      "/Applications/Anaconda/anaconda/lib/python3.5/site-packages/scipy/sparse/compressed.py:730: SparseEfficiencyWarning: Changing the sparsity structure of a csr_matrix is expensive. lil_matrix is more efficient.\n",
      "  SparseEfficiencyWarning)\n"
     ]
    }
   ],
   "source": [
    "numericals_sparse = sparse.csr_matrix(numericalFeat)\n",
    "# get data matrix & response variable\n",
    "X_all = sparse.hstack((numericals_sparse, categoricals_encoded))\n",
    "y_all = bigdf['ArrDelay'].values\n",
    "\n",
    "X_train, X_test, y_train, y_test = train_test_split(X_all, y_all, test_size = 0.2, random_state = 42)\n",
    "\n",
    "# we have 2 numerical features\n",
    "X_train_numericals = X_train[:, 0:3].toarray()\n",
    "X_test_numericals = X_test[:, 0:3].toarray()\n",
    "\n",
    "# use sklearn tools to standardize numerical features...\n",
    "scaler = StandardScaler() \n",
    "scaler.fit(X_train_numericals) # get std/mean from train set\n",
    "X_train_numericals = sparse.csr_matrix(scaler.transform(X_train_numericals)) \n",
    "X_test_numericals = sparse.csr_matrix(scaler.transform(X_test_numericals))\n",
    "\n",
    "# update sets\n",
    "X_train[:, 0:3] = X_train_numericals\n",
    "X_test[:, 0:3] = X_test_numericals"
   ]
  },
  {
   "cell_type": "code",
   "execution_count": 27,
   "metadata": {
    "collapsed": false
   },
   "outputs": [
    {
     "data": {
      "text/plain": [
       "(2212, 29)"
      ]
     },
     "execution_count": 27,
     "metadata": {},
     "output_type": "execute_result"
    }
   ],
   "source": [
    "X_test.shape"
   ]
  },
  {
   "cell_type": "code",
   "execution_count": 28,
   "metadata": {
    "collapsed": false
   },
   "outputs": [
    {
     "data": {
      "text/plain": [
       "(2212,)"
      ]
     },
     "execution_count": 28,
     "metadata": {},
     "output_type": "execute_result"
    }
   ],
   "source": [
    "y_test.shape"
   ]
  },
  {
   "cell_type": "code",
   "execution_count": 37,
   "metadata": {
    "collapsed": false
   },
   "outputs": [
    {
     "data": {
      "text/plain": [
       "<matplotlib.collections.PathCollection at 0x19297b710>"
      ]
     },
     "execution_count": 37,
     "metadata": {},
     "output_type": "execute_result"
    },
    {
     "data": {
      "image/png": "[encoded data removed]",
      "text/plain": [
       "<matplotlib.figure.Figure at 0x218fa65c0>"
      ]
     },
     "metadata": {},
     "output_type": "display_data"
    }
   ],
   "source": [
    "clf = sklearn.linear_model.LinearRegression()\n",
    "clf.fit(X_train, y_train)\n",
    "plt.scatter(clf.predict(X_train),clf.predict(X_train) - y_train, c = 'b', s=50, alpha = 0.5)\n",
    "plt.scatter(clf.predict(X_test),clf.predict(X_test) - y_test, c = 'g', s=50)"
   ]
  },
  {
   "cell_type": "code",
   "execution_count": 148,
   "metadata": {
    "collapsed": false
   },
   "outputs": [
    {
     "data": {
      "text/plain": [
       "34.170321112857643"
      ]
     },
     "execution_count": 148,
     "metadata": {},
     "output_type": "execute_result"
    }
   ],
   "source": [
    "clf = sklearn.linear_model.LinearRegression()\n",
    "\n",
    "# fit the model!\n",
    "clf.fit(X_train, y_train)\n",
    "\n",
    "y_pred = clf.predict(X_test)\n",
    "rmse(y_test, y_pred)"
   ]
  },
  {
   "cell_type": "markdown",
   "metadata": {},
   "source": [
    "As we seem, the RSME value of the OLS model is not acceptable, since the reduced dataset has some limitation, since, in our limited route dataset, the dependency between flight has decreased deeply."
   ]
  },
  {
   "cell_type": "code",
   "execution_count": 110,
   "metadata": {
    "collapsed": false
   },
   "outputs": [
    {
     "data": {
      "text/plain": [
       "((6635, 29), (29,))"
      ]
     },
     "execution_count": 110,
     "metadata": {},
     "output_type": "execute_result"
    }
   ],
   "source": [
    "X_train.shape, clf.coef_.shape"
   ]
  },
  {
   "cell_type": "markdown",
   "metadata": {},
   "source": [
    "### Ridge Regression"
   ]
  },
  {
   "cell_type": "code",
   "execution_count": 144,
   "metadata": {
    "collapsed": false
   },
   "outputs": [
    {
     "name": "stdout",
     "output_type": "stream",
     "text": [
      "CPU times: user 839 ms, sys: 9.91 ms, total: 849 ms\n",
      "Wall time: 852 ms\n"
     ]
    }
   ],
   "source": [
    "%%time\n",
    "# Use ridge regression (i.e. Gaussian prior) and vary the lambda parameter using Grid search\n",
    "from sklearn.linear_model import SGDRegressor\n",
    "from sklearn.grid_search import GridSearchCV\n",
    "\n",
    "SGD_params = {'alpha': 10.0 ** -np.arange(-2,8)}\n",
    "SGD_model = GridSearchCV(SGDRegressor(random_state = 50), \\\n",
    "                         SGD_params, scoring = 'mean_absolute_error', cv = 11) # cross validate 6 times\n",
    "\n",
    "\n",
    "# train the model, this might take some time...\n",
    "SGD_model.fit(X_train, y_train)"
   ]
  },
  {
   "cell_type": "code",
   "execution_count": 145,
   "metadata": {
    "collapsed": false
   },
   "outputs": [
    {
     "data": {
      "text/plain": [
       "33.589696257310685"
      ]
     },
     "execution_count": 145,
     "metadata": {},
     "output_type": "execute_result"
    }
   ],
   "source": [
    "y_pred = SGD_model.predict(X_test)\n",
    "rmse(y_test, y_pred)"
   ]
  },
  {
   "cell_type": "markdown",
   "metadata": {},
   "source": [
    "The RSME value after Ridge Regression is also unacceptable, so we decide to run regression model on our whole dataset."
   ]
  },
  {
   "cell_type": "markdown",
   "metadata": {},
   "source": [
    "## 4.3 RSME Value Comparing"
   ]
  },
  {
   "cell_type": "markdown",
   "metadata": {},
   "source": [
    "Here we present 3 RSME values for comparing. They are baseline 1 year dataset(2015) and 5 year dataset(2011-2015)"
   ]
  },
  {
   "cell_type": "code",
   "execution_count": 12,
   "metadata": {
    "collapsed": false
   },
   "outputs": [
    {
     "data": {
      "image/png": "[encoded data removed]",
      "text/plain": [
       "<matplotlib.figure.Figure at 0x118eafa20>"
      ]
     },
     "metadata": {},
     "output_type": "display_data"
    }
   ],
   "source": [
    "import json\n",
    "import seaborn as sns\n",
    "import matplotlib.ticker as ticker\n",
    "import numpy as np\n",
    "%matplotlib inline\n",
    "import matplotlib\n",
    "import matplotlib.pyplot as plt\n",
    "\n",
    "def load_model(filename):\n",
    "    mdl = None\n",
    "    with open(filename, 'r') as f:\n",
    "        mdl = json.load(f)\n",
    "    return mdl\n",
    "\n",
    "# load model results\n",
    "mdl1 = load_model('models/2015model.json') # model with 2014 data (1 year)\n",
    "mdl5 = load_model('models/2011_2015model.json') # model with 2010-2014 data ( 5 years)\n",
    "\n",
    "\n",
    "labels = np.array(['Basic_Perdiction', '2015', '2011_to_2015'])\n",
    "RMSEs = np.array([RMSE_base, mdl1['RMSE'], mdl5['RMSE']])\n",
    "MASs = np.array([MAS_base, mdl1['MAS'], mdl5['MAS']])\n",
    "\n",
    "width = .35\n",
    "xx = np.arange(len(RMSEs))\n",
    "plt.figure(figsize=(9, 6))\n",
    "plt.bar(xx-width, RMSEs, width, label='RMSE', color=sns.color_palette()[0])\n",
    "plt.bar(xx , MASs, width, label='MAE', color=sns.color_palette()[5])\n",
    "plt.legend(loc='best')\n",
    "\n",
    "# Hide major tick labels\n",
    "ax = plt.gca()\n",
    "ax.xaxis.set_major_formatter(ticker.NullFormatter())\n",
    "\n",
    "# Customize minor tick labels\n",
    "ax.xaxis.set_minor_locator(ticker.FixedLocator([i for i in xx]))\n",
    "ax.xaxis.set_minor_formatter(ticker.FixedFormatter([labels[i] for i in xx]))"
   ]
  },
  {
   "cell_type": "markdown",
   "metadata": {},
   "source": [
    "# 5 Application for Detailed Flight"
   ]
  },
  {
   "cell_type": "markdown",
   "metadata": {},
   "source": [
    "For our linear regression model, we add some limitations, since we decide to go to california after the final exam (around 12.17 to 12.23). Specific limitation:\n",
    "\n",
    "Time:12.17 to 12.23,\n",
    "\n",
    "Dest: Los Angles, CA,\n",
    "\n",
    "Origin: Bosotn, MA."
   ]
  },
  {
   "cell_type": "code",
   "execution_count": 124,
   "metadata": {
    "collapsed": true
   },
   "outputs": [],
   "source": [
    "from datetime import timedelta, datetime, tzinfo\n",
    "from pytz import timezone\n",
    "import pytz\n",
    "\n",
    "def convertToUTC(naive, zonestring=\"America/New_York\"):\n",
    "    local = pytz.timezone (zonestring)\n",
    "    local_dt = local.localize(naive, is_dst=None)\n",
    "    return local_dt.astimezone (pytz.utc)"
   ]
  },
  {
   "cell_type": "code",
   "execution_count": 57,
   "metadata": {
    "collapsed": true
   },
   "outputs": [],
   "source": [
    "# we are only interested in flights NY to Chicago!\n",
    "city_from = 'Boston, MA'\n",
    "city_to = 'Los Angeles, CA'\n",
    "zone_to = 'America/Los_Angeles'\n",
    "zone_from = 'America/New_York'"
   ]
  },
  {
   "cell_type": "code",
   "execution_count": 58,
   "metadata": {
    "collapsed": false
   },
   "outputs": [
    {
     "name": "stdout",
     "output_type": "stream",
     "text": [
      "20914271 entries\n",
      "5 days have 403432 flights\n",
      "Found 209 flights from Boston, MA to Los Angeles, CA for 17.12 - 23.12\n"
     ]
    }
   ],
   "source": [
    "# need to create a lookup table for the values (i.e. flight numbers, city and so on and then drop all duplicates!)\n",
    "db = pd.read_csv('Big10FlightTable.csv')\n",
    "# remove all unnecessary columns\n",
    "db = db[['OriginCityName', 'DestCityName', 'AIRCRAFT_AGE', 'Dest', 'ArrTime', \\\n",
    "         'DepTime', 'UniqueCarrier', 'DayOfWeek', 'AIRCRAFT_MFR', 'FlightNum', 'Month', \\\n",
    "         'DayofMonth', 'Distance', 'Origin']]\n",
    "print (str(db.count()[0]) + ' entries')\n",
    "db.head()\n",
    "\n",
    "# drop everything except for the 5 days before christmas! i.e. 20.12, 21.12, 22.12, 23.12, 24.12.\n",
    "db = db[db.Month == 12]\n",
    "db = db[db.DayofMonth <= 23]\n",
    "db = db[db.DayofMonth >= 17]\n",
    "\n",
    "print ('5 days have ' + str(db.count()[0]) + ' flights')\n",
    "\n",
    "db = db[db.OriginCityName == city_from]\n",
    "db = db[db.DestCityName == city_to]\n",
    "db.reset_index(inplace=True)\n",
    "\n",
    "print ('Found ' + str(db.count()[0]) + ' flights from ' + city_from + ' to ' + city_to + ' for 17.12 - 23.12')"
   ]
  },
  {
   "cell_type": "code",
   "execution_count": 59,
   "metadata": {
    "collapsed": true
   },
   "outputs": [],
   "source": [
    "mdl = load_model('models/2014model.json')\n",
    "# categorical feature encoder, fitted on the keys\n",
    "encoder = OneHotEncoder(sparse=True, n_values=mdl['encoder']['values']) "
   ]
  },
  {
   "cell_type": "code",
   "execution_count": 60,
   "metadata": {
    "collapsed": true
   },
   "outputs": [],
   "source": [
    "# input is a datarow\n",
    "# prediction of day in the next year!\n",
    "def predictDelayTime(row, mdl):\n",
    "    \n",
    "    s_mean, s_std, coeff, intercept = mdl['scaler_mean'], mdl['scaler_std'], mdl['coeff'], mdl['intercept']\n",
    "    \n",
    "    # read out tables\n",
    "    carrierTable = mdl['CARRIER']\n",
    "    mfrTable = mdl['MANUFACTURER']\n",
    "    destTable = mdl['DEST']\n",
    "    originTable = mdl['ORIGIN']\n",
    "    \n",
    "    distance = row['Distance'] # <-- look this up!\n",
    "    aircraft_age = row['AIRCRAFT_AGE'] # <-- look this up!\n",
    "    \n",
    "    # normalize numerical features according to scaler\n",
    "    distance = (distance - s_mean[0]) / s_std[0]\n",
    "    aircraft_age = (aircraft_age + 1 - s_mean[1]) / s_std[1]\n",
    "    \n",
    "    month = row['Month']\n",
    "    day_of_month = row['DayofMonth'] \n",
    "    origin = row['Origin']\n",
    "    dest = row['Dest']\n",
    "    \n",
    "    hour_of_arr = int(row['ArrTime']) / 10\n",
    "    hour_of_dep = int(row['DepTime']) / 10\n",
    "    carrier = row['UniqueCarrier']\n",
    "    day_of_week = datetime(year=2016, month=row.Month, day=row.DayofMonth).weekday() # <-- get via datetimeobject\n",
    "    mfr = row['AIRCRAFT_MFR']\n",
    "    \n",
    "    # for nonindexed categorical features, do lookup!\n",
    "    origin = originTable[origin]\n",
    "    dest = destTable[dest]\n",
    "    mfr = mfrTable[mfr]\n",
    "    carrier = carrierTable[carrier]\n",
    "\n",
    "    # write into df\n",
    "    df = {}\n",
    "    df['MONTH'] = month\n",
    "    df['DAY_OF_MONTH'] = day_of_month\n",
    "    df['ORIGIN'] = origin\n",
    "    df['DEST'] = dest\n",
    "    df['HOUR_OF_ARR'] = hour_of_arr\n",
    "    df['HOUR_OF_DEP'] = hour_of_dep\n",
    "    df['UNIQUE_CARRIER'] = carrier\n",
    "    df['DAY_OF_WEEK'] = day_of_week\n",
    "    df['AIRCRAFT_MFR'] = mfr\n",
    "    df = pd.DataFrame([df])\n",
    "\n",
    "    # order here is important! make sure it is the same as in the model!\n",
    "    categoricalFeat = df[['MONTH', 'DAY_OF_MONTH', 'ORIGIN', \n",
    "                    'DEST', 'HOUR_OF_ARR', 'HOUR_OF_DEP', \n",
    "                    'UNIQUE_CARRIER', 'DAY_OF_WEEK', 'AIRCRAFT_MFR']].copy() # Categorical features\n",
    "    \n",
    "    # construct the data vector for the linear model\n",
    "    categoricals_encoded = encoder.fit_transform(categoricalFeat)\n",
    "    num_features = np.array([distance, aircraft_age])\n",
    "    cat_features = categoricals_encoded.toarray().T.ravel()\n",
    "    w = np.hstack([num_features, cat_features])\n",
    "\n",
    "    y_pred = np.dot(w, coeff) + intercept\n",
    "    \n",
    "    return y_pred[0]"
   ]
  },
  {
   "cell_type": "code",
   "execution_count": 51,
   "metadata": {
    "collapsed": false
   },
   "outputs": [
    {
     "data": {
      "text/plain": [
       "index                            3792024\n",
       "OriginCityName                Boston, MA\n",
       "DestCityName             Los Angeles, CA\n",
       "AIRCRAFT_AGE                          21\n",
       "Dest                                 LAX\n",
       "ArrTime                              923\n",
       "DepTime                              609\n",
       "UniqueCarrier                         UA\n",
       "DayOfWeek                              6\n",
       "AIRCRAFT_MFR                      BOEING\n",
       "FlightNum                            704\n",
       "Month                                 12\n",
       "DayofMonth                            17\n",
       "Distance                            2611\n",
       "Origin                               BOS\n",
       "PREDICTED_DELAY                        0\n",
       "FLIGHT_TIME                            0\n",
       "PREDICTED_FLIGHT_TIME                  0\n",
       "Name: 0, dtype: object"
      ]
     },
     "execution_count": 51,
     "metadata": {},
     "output_type": "execute_result"
    }
   ],
   "source": [
    "row"
   ]
  },
  {
   "cell_type": "code",
   "execution_count": 61,
   "metadata": {
    "collapsed": false
   },
   "outputs": [
    {
     "name": "stdout",
     "output_type": "stream",
     "text": [
      "processing 0\n",
      "processing 1\n",
      "processing 2\n",
      "processing 3\n",
      "processing 4\n",
      "processing 5\n",
      "processing 6\n",
      "processing 7\n",
      "processing 8\n",
      "processing 9\n",
      "processing 10\n",
      "processing 11\n",
      "processing 12\n",
      "processing 13\n",
      "processing 14\n",
      "processing 15\n",
      "processing 16\n",
      "processing 17\n",
      "processing 18\n",
      "processing 19\n",
      "processing 20\n",
      "processing 21\n",
      "processing 22\n",
      "processing 23\n",
      "processing 24\n",
      "processing 25\n",
      "processing 26\n",
      "processing 27\n",
      "processing 28\n",
      "processing 29\n",
      "processing 30\n",
      "processing 31\n",
      "processing 32\n",
      "processing 33\n",
      "processing 34\n",
      "processing 35\n",
      "processing 36\n",
      "processing 37\n",
      "processing 38\n",
      "processing 39\n",
      "processing 40\n",
      "processing 41\n",
      "processing 42\n",
      "processing 43\n",
      "processing 44\n",
      "processing 45\n",
      "processing 46\n",
      "processing 47\n",
      "processing 48\n",
      "processing 49\n",
      "processing 50\n",
      "processing 51\n",
      "processing 52\n",
      "processing 53\n",
      "processing 54\n",
      "processing 55\n",
      "processing 56\n",
      "processing 57\n",
      "processing 58\n",
      "processing 59\n",
      "processing 60\n",
      "processing 61\n",
      "processing 62\n",
      "processing 63\n",
      "processing 64\n",
      "processing 65\n",
      "processing 66\n",
      "processing 67\n",
      "processing 68\n",
      "processing 69\n",
      "processing 70\n",
      "processing 71\n",
      "processing 72\n",
      "processing 73\n",
      "processing 74\n",
      "processing 75\n",
      "processing 76\n",
      "processing 77\n",
      "processing 78\n",
      "processing 79\n",
      "processing 80\n",
      "processing 81\n",
      "processing 82\n",
      "processing 83\n",
      "processing 84\n",
      "processing 85\n",
      "processing 86\n",
      "processing 87\n",
      "processing 88\n",
      "processing 89\n",
      "processing 90\n",
      "processing 91\n",
      "processing 92\n",
      "processing 93\n",
      "processing 94\n",
      "processing 95\n",
      "processing 96\n",
      "processing 97\n",
      "processing 98\n",
      "processing 99\n",
      "processing 100\n",
      "processing 101\n",
      "processing 102\n",
      "processing 103\n",
      "processing 104\n",
      "processing 105\n",
      "processing 106\n",
      "processing 107\n",
      "processing 108\n",
      "processing 109\n",
      "processing 110\n",
      "processing 111\n",
      "processing 112\n",
      "processing 113\n",
      "processing 114\n",
      "processing 115\n",
      "processing 116\n",
      "processing 117\n",
      "processing 118\n",
      "processing 119\n",
      "processing 120\n",
      "processing 121\n",
      "processing 122\n",
      "processing 123\n",
      "processing 124\n",
      "processing 125\n",
      "processing 126\n",
      "processing 127\n",
      "processing 128\n",
      "processing 129\n",
      "processing 130\n",
      "processing 131\n",
      "processing 132\n",
      "processing 133\n",
      "processing 134\n",
      "processing 135\n",
      "processing 136\n",
      "processing 137\n",
      "processing 138\n",
      "processing 139\n",
      "processing 140\n",
      "processing 141\n",
      "processing 142\n",
      "processing 143\n",
      "processing 144\n",
      "processing 145\n",
      "processing 146\n",
      "processing 147\n",
      "processing 148\n",
      "processing 149\n",
      "processing 150\n",
      "processing 151\n",
      "processing 152\n",
      "processing 153\n",
      "processing 154\n",
      "processing 155\n",
      "processing 156\n",
      "processing 157\n",
      "processing 158\n",
      "processing 159\n",
      "processing 160\n",
      "processing 161\n",
      "processing 162\n",
      "processing 163\n",
      "processing 164\n",
      "processing 165\n",
      "processing 166\n",
      "processing 167\n",
      "processing 168\n",
      "processing 169\n",
      "processing 170\n",
      "processing 171\n",
      "processing 172\n",
      "processing 173\n",
      "processing 174\n",
      "processing 175\n",
      "processing 176\n",
      "processing 177\n",
      "processing 178\n",
      "processing 179\n",
      "processing 180\n",
      "processing 181\n",
      "processing 182\n",
      "processing 183\n",
      "processing 184\n",
      "processing 185\n",
      "processing 186\n",
      "processing 187\n",
      "processing 188\n",
      "processing 189\n",
      "processing 190\n",
      "processing 191\n",
      "processing 192\n",
      "processing 193\n",
      "processing 194\n",
      "processing 195\n",
      "processing 196\n",
      "processing 197\n",
      "processing 198\n",
      "processing 199\n",
      "processing 200\n",
      "processing 201\n",
      "processing 202\n",
      "processing 203\n",
      "processing 204\n",
      "processing 205\n",
      "processing 206\n",
      "processing 207\n",
      "processing 208\n"
     ]
    }
   ],
   "source": [
    "# create for each day info\n",
    "db['PREDICTED_DELAY'] = 0.\n",
    "db['FLIGHT_TIME'] = 0\n",
    "db['PREDICTED_FLIGHT_TIME'] = 0\n",
    "for index, row in db.iterrows():\n",
    "    print ('processing {idx}'.format(idx=index))\n",
    "    y_pred = predictDelayTime(row, mdl)\n",
    "    db.set_value(index, 'PREDICTED_DELAY', y_pred)\n",
    "\n",
    "    arr_time = datetime(year=2016, month=row['Month'], day=row['DayofMonth'], \\\n",
    "                        hour= int(row['ArrTime'] / 100), minute=int(row['ArrTime'] % 100))\n",
    "    dep_time = datetime(year=2016, month=row['Month'], day=row['DayofMonth'], \\\n",
    "                        hour= int(row['DepTime'] / 100), minute=int(row['DepTime'] % 100))\n",
    "    \n",
    "    flight_time_in_min =  (convertToUTC(arr_time) - convertToUTC(dep_time))\n",
    "    flight_time_in_min = int(flight_time_in_min.total_seconds() / 60)\n",
    "    \n",
    "    db.set_value(index, 'FLIGHT_TIME', flight_time_in_min)\n",
    "    db.set_value(index, 'PREDICTED_FLIGHT_TIME', y_pred + flight_time_in_min)"
   ]
  },
  {
   "cell_type": "code",
   "execution_count": 62,
   "metadata": {
    "collapsed": false
   },
   "outputs": [
    {
     "data": {
      "text/plain": [
       "Index(['index', 'OriginCityName', 'DestCityName', 'AIRCRAFT_AGE', 'Dest',\n",
       "       'ArrTime', 'DepTime', 'UniqueCarrier', 'DayOfWeek', 'AIRCRAFT_MFR',\n",
       "       'FlightNum', 'Month', 'DayofMonth', 'Distance', 'Origin',\n",
       "       'PREDICTED_DELAY', 'FLIGHT_TIME', 'PREDICTED_FLIGHT_TIME'],\n",
       "      dtype='object')"
      ]
     },
     "execution_count": 62,
     "metadata": {},
     "output_type": "execute_result"
    }
   ],
   "source": [
    "db.columns"
   ]
  },
  {
   "cell_type": "code",
   "execution_count": 63,
   "metadata": {
    "collapsed": false
   },
   "outputs": [
    {
     "name": "stderr",
     "output_type": "stream",
     "text": [
      "/Applications/Anaconda/anaconda/lib/python3.5/site-packages/ipykernel/__main__.py:2: FutureWarning: sort(columns=....) is deprecated, use sort_values(by=.....)\n",
      "  from ipykernel import kernelapp as app\n"
     ]
    }
   ],
   "source": [
    "db2 = db[db.DayofMonth == 17]\n",
    "dbres2 = db2.sort('PREDICTED_FLIGHT_TIME')"
   ]
  },
  {
   "cell_type": "code",
   "execution_count": 64,
   "metadata": {
    "collapsed": true
   },
   "outputs": [],
   "source": [
    "dbres2.to_csv('desired_flights.csv')"
   ]
  },
  {
   "cell_type": "markdown",
   "metadata": {},
   "source": [
    "For the detail departure time, we limit the time from 8am to 5pm"
   ]
  },
  {
   "cell_type": "code",
   "execution_count": 69,
   "metadata": {
    "collapsed": false
   },
   "outputs": [
    {
     "name": "stderr",
     "output_type": "stream",
     "text": [
      "/Applications/Anaconda/anaconda/lib/python3.5/site-packages/ipykernel/__main__.py:2: FutureWarning: sort(columns=....) is deprecated, use sort_values(by=.....)\n",
      "  from ipykernel import kernelapp as app\n"
     ]
    },
    {
     "data": {
      "text/html": [
       "<div>\n",
       "<table border=\"1\" class=\"dataframe\">\n",
       "  <thead>\n",
       "    <tr style=\"text-align: right;\">\n",
       "      <th></th>\n",
       "      <th>index</th>\n",
       "      <th>OriginCityName</th>\n",
       "      <th>DestCityName</th>\n",
       "      <th>AIRCRAFT_AGE</th>\n",
       "      <th>Dest</th>\n",
       "      <th>ArrTime</th>\n",
       "      <th>DepTime</th>\n",
       "      <th>UniqueCarrier</th>\n",
       "      <th>DayOfWeek</th>\n",
       "      <th>AIRCRAFT_MFR</th>\n",
       "      <th>FlightNum</th>\n",
       "      <th>Month</th>\n",
       "      <th>DayofMonth</th>\n",
       "      <th>Distance</th>\n",
       "      <th>Origin</th>\n",
       "      <th>PREDICTED_DELAY</th>\n",
       "      <th>FLIGHT_TIME</th>\n",
       "      <th>PREDICTED_FLIGHT_TIME</th>\n",
       "    </tr>\n",
       "  </thead>\n",
       "  <tbody>\n",
       "    <tr>\n",
       "      <th>173</th>\n",
       "      <td>20734828</td>\n",
       "      <td>Boston, MA</td>\n",
       "      <td>Los Angeles, CA</td>\n",
       "      <td>6</td>\n",
       "      <td>LAX</td>\n",
       "      <td>32.0</td>\n",
       "      <td>2107.0</td>\n",
       "      <td>B6</td>\n",
       "      <td>4</td>\n",
       "      <td>AIRBUS</td>\n",
       "      <td>687</td>\n",
       "      <td>12</td>\n",
       "      <td>17</td>\n",
       "      <td>2611.0</td>\n",
       "      <td>BOS</td>\n",
       "      <td>49.615635</td>\n",
       "      <td>-1235</td>\n",
       "      <td>-1185</td>\n",
       "    </tr>\n",
       "    <tr>\n",
       "      <th>80</th>\n",
       "      <td>12398825</td>\n",
       "      <td>Boston, MA</td>\n",
       "      <td>Los Angeles, CA</td>\n",
       "      <td>8</td>\n",
       "      <td>LAX</td>\n",
       "      <td>46.0</td>\n",
       "      <td>2026.0</td>\n",
       "      <td>B6</td>\n",
       "      <td>2</td>\n",
       "      <td>AIRBUS</td>\n",
       "      <td>687</td>\n",
       "      <td>12</td>\n",
       "      <td>17</td>\n",
       "      <td>2611.0</td>\n",
       "      <td>BOS</td>\n",
       "      <td>54.838259</td>\n",
       "      <td>-1180</td>\n",
       "      <td>-1125</td>\n",
       "    </tr>\n",
       "    <tr>\n",
       "      <th>108</th>\n",
       "      <td>12662980</td>\n",
       "      <td>Boston, MA</td>\n",
       "      <td>Los Angeles, CA</td>\n",
       "      <td>15</td>\n",
       "      <td>LAX</td>\n",
       "      <td>229.0</td>\n",
       "      <td>2246.0</td>\n",
       "      <td>UA</td>\n",
       "      <td>2</td>\n",
       "      <td>BOEING</td>\n",
       "      <td>1010</td>\n",
       "      <td>12</td>\n",
       "      <td>17</td>\n",
       "      <td>2611.0</td>\n",
       "      <td>BOS</td>\n",
       "      <td>98.805784</td>\n",
       "      <td>-1217</td>\n",
       "      <td>-1118</td>\n",
       "    </tr>\n",
       "    <tr>\n",
       "      <th>0</th>\n",
       "      <td>3792024</td>\n",
       "      <td>Boston, MA</td>\n",
       "      <td>Los Angeles, CA</td>\n",
       "      <td>21</td>\n",
       "      <td>LAX</td>\n",
       "      <td>923.0</td>\n",
       "      <td>609.0</td>\n",
       "      <td>UA</td>\n",
       "      <td>6</td>\n",
       "      <td>BOEING</td>\n",
       "      <td>704</td>\n",
       "      <td>12</td>\n",
       "      <td>17</td>\n",
       "      <td>2611.0</td>\n",
       "      <td>BOS</td>\n",
       "      <td>-9.190021</td>\n",
       "      <td>194</td>\n",
       "      <td>184</td>\n",
       "    </tr>\n",
       "    <tr>\n",
       "      <th>78</th>\n",
       "      <td>12398678</td>\n",
       "      <td>Boston, MA</td>\n",
       "      <td>Los Angeles, CA</td>\n",
       "      <td>0</td>\n",
       "      <td>LAX</td>\n",
       "      <td>1158.0</td>\n",
       "      <td>847.0</td>\n",
       "      <td>B6</td>\n",
       "      <td>2</td>\n",
       "      <td>AIRBUS</td>\n",
       "      <td>287</td>\n",
       "      <td>12</td>\n",
       "      <td>17</td>\n",
       "      <td>2611.0</td>\n",
       "      <td>BOS</td>\n",
       "      <td>0.647968</td>\n",
       "      <td>191</td>\n",
       "      <td>191</td>\n",
       "    </tr>\n",
       "  </tbody>\n",
       "</table>\n",
       "</div>"
      ],
      "text/plain": [
       "        index OriginCityName     DestCityName  AIRCRAFT_AGE Dest  ArrTime  \\\n",
       "173  20734828     Boston, MA  Los Angeles, CA             6  LAX     32.0   \n",
       "80   12398825     Boston, MA  Los Angeles, CA             8  LAX     46.0   \n",
       "108  12662980     Boston, MA  Los Angeles, CA            15  LAX    229.0   \n",
       "0     3792024     Boston, MA  Los Angeles, CA            21  LAX    923.0   \n",
       "78   12398678     Boston, MA  Los Angeles, CA             0  LAX   1158.0   \n",
       "\n",
       "     DepTime UniqueCarrier  DayOfWeek AIRCRAFT_MFR  FlightNum  Month  \\\n",
       "173   2107.0            B6          4       AIRBUS        687     12   \n",
       "80    2026.0            B6          2       AIRBUS        687     12   \n",
       "108   2246.0            UA          2       BOEING       1010     12   \n",
       "0      609.0            UA          6       BOEING        704     12   \n",
       "78     847.0            B6          2       AIRBUS        287     12   \n",
       "\n",
       "     DayofMonth  Distance Origin  PREDICTED_DELAY  FLIGHT_TIME  \\\n",
       "173          17    2611.0    BOS        49.615635        -1235   \n",
       "80           17    2611.0    BOS        54.838259        -1180   \n",
       "108          17    2611.0    BOS        98.805784        -1217   \n",
       "0            17    2611.0    BOS        -9.190021          194   \n",
       "78           17    2611.0    BOS         0.647968          191   \n",
       "\n",
       "     PREDICTED_FLIGHT_TIME  \n",
       "173                  -1185  \n",
       "80                   -1125  \n",
       "108                  -1118  \n",
       "0                      184  \n",
       "78                     191  "
      ]
     },
     "execution_count": 69,
     "metadata": {},
     "output_type": "execute_result"
    }
   ],
   "source": [
    "db3 = db[(db.DepTime > 800) & (db.DepTime < 1700)]\n",
    "dbres3 = db2.sort('PREDICTED_FLIGHT_TIME')\n",
    "dbres3.head()"
   ]
  },
  {
   "cell_type": "markdown",
   "metadata": {
    "collapsed": true
   },
   "source": [
    "And now we get several recommend flight for consideration. So we should book a ticket to LA in 12.17, just after our final exam."
   ]
  }
 ],
 "metadata": {
  "anaconda-cloud": {},
  "kernelspec": {
   "display_name": "Python [Root]",
   "language": "python",
   "name": "Python [Root]"
  },
  "language_info": {
   "codemirror_mode": {
    "name": "ipython",
    "version": 3
   },
   "file_extension": ".py",
   "mimetype": "text/x-python",
   "name": "python",
   "nbconvert_exporter": "python",
   "pygments_lexer": "ipython3",
   "version": "3.5.2"
  }
 },
 "nbformat": 4,
 "nbformat_minor": 0
}
